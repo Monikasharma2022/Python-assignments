{
 "cells": [
  {
   "cell_type": "code",
   "execution_count": null,
   "id": "7d79dda1",
   "metadata": {},
   "outputs": [],
   "source": [
    "# 1. Why are functions advantageous to have in your programs?\n",
    "# 2. When does the code in a function run: when it&#39;s specified or when it&#39;s called?\n",
    "# 3. What statement creates a function?\n",
    "# 4. What is the difference between a function and a function call?\n",
    "# 5. How many global scopes are there in a Python program? How many local scopes?\n",
    "# 6. What happens to variables in a local scope when the function call returns?\n",
    "# 7. What is the concept of a return value? Is it possible to have a return value in an expression?\n",
    "# 8. If a function does not have a return statement, what is the return value of a call to that function?\n",
    "# 9. How do you make a function variable refer to the global variable?\n",
    "# 10. What is the data type of None?\n",
    "# 11. What does the sentence import areallyourpetsnamederic do?\n",
    "# 12. If you had a bacon() feature in a spam module, what would you call it after importing spam?\n",
    "# 13. What can you do to save a programme from crashing if it encounters an error?\n",
    "# 14. What is the purpose of the try clause? What is the purpose of the except clause?"
   ]
  },
  {
   "cell_type": "code",
   "execution_count": null,
   "id": "a397df02",
   "metadata": {},
   "outputs": [],
   "source": [
    "# Modularity: In Python, functions allow to break down a complex problem into smaller, manageable tasks. \n",
    "# Each function can focus on a specific task or functionality, making the code easier to understand, maintain, and debug. \n",
    "# This modular approach promotes code reusability and helps in organizing code logically.\n",
    "\n",
    "# Abstraction: Functions in Python hide the implementation details of a particular functionality, providing a higher level of abstraction. \n",
    "# Developers can interact with the function using its interface (parameters and return values) without needing to know how it is implemented internally.\n",
    "# Abstraction helps in managing the complexity of the code and enhances its readability.\n",
    "\n",
    "# Code organization: Functions help in organizing Python code logically by grouping related tasks together. \n",
    "# This improves code structure and makes it easier to navigate, especially in large programs. With well-defined functions, \n",
    "# developers can quickly locate and understand different parts of the program, leading to better collaboration and maintainability.\n",
    "\n",
    "# Code reuse: Python functions promote code reuse by encapsulating common tasks or algorithms into reusable units. \n",
    "# Once a function is defined, it can be called from multiple places within the program or even in other Python programs \n",
    "# without needing to rewrite the same logic. This saves time and effort and ensures consistency across the codebase.\n",
    "\n",
    "# Testing and debugging: Functions make testing and debugging Python code easier.Since functions encapsulate specific functionality,\n",
    "# they can be tested individually, allowing developers to isolate and identify issues more effectively. Additionally, modular Python code \n",
    "# with well-defined functions reduces the scope of bugs, as changes made to one function are less likely to affect other parts of the program.\n",
    "\n",
    "# Scalability and maintainability: As Python programs grow in size and complexity, functions help in managing this complexity \n",
    "# by breaking it down into smaller, manageable components. This makes the Python codebase more scalable and maintainable over time, \n",
    "# as new features can be added, existing features can be modified, and bugs can be fixed with minimal disruption to other parts of the program."
   ]
  },
  {
   "cell_type": "code",
   "execution_count": null,
   "id": "771ad785",
   "metadata": {},
   "outputs": [],
   "source": [
    "# When you define a function in Python, you're essentially creating a blueprint for a set of instructions that will be executed\n",
    "# later when the function is invoked. The code inside the function's block is not executed at the time of definition; \n",
    "# instead, it is executed only when the function is called."
   ]
  },
  {
   "cell_type": "code",
   "execution_count": null,
   "id": "b836ba6c",
   "metadata": {},
   "outputs": [],
   "source": [
    "# In Python, the def statement is used to create a function.\n",
    "\n",
    "# The general syntax for defining a function in Python is:\n",
    "# def function_name(parameters):\n",
    "#     \"\"\"docstring\"\"\"\n",
    "#     # Function body or code block\n",
    "#     # ...\n",
    "#     # ...\n",
    "#     return [expression]  # Optional return statement"
   ]
  },
  {
   "cell_type": "code",
   "execution_count": null,
   "id": "89fc5add",
   "metadata": {},
   "outputs": [],
   "source": [
    "# Function:\n",
    "# A function is a block of code that performs a specific task or computation. It typically takes some input (parameters or arguments), performs some operations based on that input, and may produce some output.\n",
    "# Functions in Python are defined using the def keyword followed by the function name, parameters (if any), and a colon. The body of the function is then indented and contains the code that defines what the function does.\n",
    "# Functions can be defined but not executed until they are called. Once defined, a function can be called multiple times from different parts of the program.\n",
    "\n",
    "# Function Call:\n",
    "# A function call, also known as invoking or executing a function, is the act of telling the program to execute the code inside a function.\n",
    "# When a function is called, the program jumps to the function definition, executes the code inside the function body, and then returns control back to the point in the program where the function was called.\n",
    "# To call a function in Python, you simply use the function's name followed by parentheses, optionally passing any required arguments inside the parentheses."
   ]
  },
  {
   "cell_type": "code",
   "execution_count": null,
   "id": "d60cf11f",
   "metadata": {},
   "outputs": [],
   "source": [
    "# Global Scope:\n",
    "# There is only one global scope in a Python program.\n",
    "# The global scope is the outermost scope and includes variables and functions defined at the top level of the program.\n",
    "# Variables and functions defined in the global scope are accessible from anywhere within the program, including within functions and other scopes.\n",
    "\n",
    "# Local Scopes:\n",
    "# Local scopes are created whenever a function is called.\n",
    "# Each function call creates its own local scope.\n",
    "# Variables defined within a function are local to that function and exist only within its scope.\n",
    "# Local variables are not accessible outside the function in which they are defined.\n",
    "# Once the function execution completes, the local scope is destroyed, and any variables defined within it cease to exist."
   ]
  },
  {
   "cell_type": "code",
   "execution_count": null,
   "id": "81d9d251",
   "metadata": {},
   "outputs": [],
   "source": [
    "# When a function call returns, the local scope associated with that function call is destroyed. \n",
    "# This means that any variables defined within the local scope cease to exist."
   ]
  },
  {
   "cell_type": "code",
   "execution_count": null,
   "id": "19c1fcde",
   "metadata": {},
   "outputs": [],
   "source": [
    "# The concept of a return value in programming refers to the value that a function provides back to the caller after \n",
    "# it has completed its execution. When a function is called, it may perform some operations and then optionally return a value to the caller. \n",
    "# This returned value can then be used by the caller in further computations, assignments, or any other desired action.\n",
    "\n",
    "# The return value of a function serves as the output of the function and allows the function to communicate information back to\n",
    "# the caller. It can be of any data type, including integers, floats, strings, lists, dictionaries, or even custom objects.\n",
    "\n",
    "# def add(a, b):\n",
    "#     \"\"\"This function returns the sum of two numbers.\"\"\"\n",
    "#     return a + b\n",
    "\n",
    "# result = add(3, 5)\n",
    "# print(result)  # Output: 8\n",
    "\n",
    "# In this example, the function add(a, b) takes two arguments a and b, adds them together, and returns the result. \n",
    "# The return value (the sum of a and b) is then assigned to the variable result, which can be used elsewhere in the program.\n",
    "\n",
    "# In Python, a function call within an expression can be used, and the return value of the function will be used as part of that expression. \n",
    "# For example:\n",
    "# result = add(3, 5) * 2\n",
    "# print(result)  # Output: 16\n",
    "# In this case, the return value of the add(3, 5) function call (which is 8) is multiplied by 2, and the result (16) is assigned to the variable result."
   ]
  },
  {
   "cell_type": "code",
   "execution_count": null,
   "id": "18a336b2",
   "metadata": {},
   "outputs": [],
   "source": [
    "# If a function does not have a return statement, the return value of a call to that function is None"
   ]
  },
  {
   "cell_type": "code",
   "execution_count": null,
   "id": "703b8817",
   "metadata": {},
   "outputs": [],
   "source": [
    "# To make a function variable refer to the global variable of the same name within a function in Python, \n",
    "#  the global keyword inside the function to declare that the variable should be treated as a global variable. \n",
    "# This allows to modify the value of the global variable from within the function.\n",
    "\n",
    "# x = 10  # global variable\n",
    "\n",
    "# def modify_global():\n",
    "#     global x  # declare x as a global variable within the function\n",
    "#     x = 20  # modify the value of the global variable x\n",
    "\n",
    "# print(\"Before function call, x =\", x)\n",
    "# modify_global()\n",
    "# print(\"After function call, x =\", x)\n",
    "\n",
    "# Output:\n",
    "# Before function call, x = 10\n",
    "# After function call, x = 20"
   ]
  },
  {
   "cell_type": "code",
   "execution_count": null,
   "id": "e5f55606",
   "metadata": {},
   "outputs": [],
   "source": [
    "# In Python, None is a special constant representing the absence of a value or a null value. \n",
    "# It is a unique data type of its own, often referred to as the \"NoneType\"."
   ]
  },
  {
   "cell_type": "code",
   "execution_count": null,
   "id": "6c8bb715",
   "metadata": {},
   "outputs": [],
   "source": [
    "# The sentence \"import areallyourpetsnamederic\" does not perform any specific action in Python.\n",
    "# In Python, import is a keyword used to import modules or packages into your program. \n",
    "# Modules are Python files containing definitions and statements, while packages are directories of Python modules with a special __init__.py file.\n",
    "# The sentence \"import areallyourpetsnamederic\" suggests importing a module named \"areallyourpetsnamederic\". \n",
    "# However, unless there is a module with that exact name available in the Python environment or in the Python path, attempting to import it will result in an ImportError.\n",
    "\n",
    "# If \"areallyourpetsnamederic\" is not a standard Python module or a module that you have created, \n",
    "# attempting to import it will raise an ImportError because Python won't be able to find such a module in its standard library\n",
    "# or in the directories specified in the Python path."
   ]
  },
  {
   "cell_type": "code",
   "execution_count": null,
   "id": "24c18717",
   "metadata": {},
   "outputs": [],
   "source": [
    "# import spam\n",
    "# spam.bacon()\n",
    "\n",
    "# In this code snippet:\n",
    "# import spam imports the spam module into your program.\n",
    "# spam.bacon() calls the bacon() function from the spam module."
   ]
  },
  {
   "cell_type": "code",
   "execution_count": null,
   "id": "88a235da",
   "metadata": {},
   "outputs": [],
   "source": [
    "# To prevent a program from crashing when it encounters an error, you can use error handling techniques such as try-except blocks. Here's how you can use try-except blocks to catch and handle errors gracefully:\n",
    "# try:\n",
    "#     # Code that may raise an error\n",
    "#     # ...\n",
    "# except Exception as e:\n",
    "#     # Code to handle the error\n",
    "#     print(\"An error occurred:\", e)\n",
    "#     # Optionally, perform recovery actions or log the error\n"
   ]
  },
  {
   "cell_type": "code",
   "execution_count": null,
   "id": "fca3bee2",
   "metadata": {},
   "outputs": [],
   "source": [
    "# The try block contains the code that may raise an error.\n",
    "# If an error occurs within the try block, Python will stop executing the try block and jump to the except block.\n",
    "# The except block specifies how to handle the error. It can contain code to gracefully handle the error, such as printing an error message or performing recovery actions.\n",
    "# You can specify the type of exception to catch, or you can use the base class Exception to catch all types of exceptions.\n",
    "# The as keyword is used to assign the exception instance to a variable (e in this example), which can be used to access information about the exception, such as its message.\n",
    "# After executing the except block, Python will continue executing the code after the try-except block."
   ]
  }
 ],
 "metadata": {
  "kernelspec": {
   "display_name": "Python 3 (ipykernel)",
   "language": "python",
   "name": "python3"
  },
  "language_info": {
   "codemirror_mode": {
    "name": "ipython",
    "version": 3
   },
   "file_extension": ".py",
   "mimetype": "text/x-python",
   "name": "python",
   "nbconvert_exporter": "python",
   "pygments_lexer": "ipython3",
   "version": "3.8.10"
  }
 },
 "nbformat": 4,
 "nbformat_minor": 5
}
