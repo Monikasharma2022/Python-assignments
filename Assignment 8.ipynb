{
 "cells": [
  {
   "cell_type": "code",
   "execution_count": null,
   "id": "3d4c4863",
   "metadata": {},
   "outputs": [],
   "source": [
    "# 1. Is the Python Standard Library included with PyInputPlus?\n",
    "# 2. Why is PyInputPlus commonly imported with import pyinputplus as pypi?\n",
    "# 3. How do you distinguish between inputInt() and inputFloat()?\n",
    "# 4. Using PyInputPlus, how do you ensure that the user enters a whole number between 0 and 99?\n",
    "# 5. What is transferred to the keyword arguments allowRegexes and blockRegexes?\n",
    "# 6. If a blank input is entered three times, what does inputStr(limit=3) do?\n",
    "# 7. If blank input is entered three times, what does inputStr(limit=3, default=&#39;hello&#39;) do?"
   ]
  },
  {
   "cell_type": "code",
   "execution_count": null,
   "id": "a1cc82b5",
   "metadata": {},
   "outputs": [],
   "source": [
    "# No, the Python Standard Library (stdlib) is not included with PyInputPlus. \n",
    "# PyInputPlus is a separate third-party library that provides functions for taking input from users, validating it, \n",
    "# and handling various input scenarios. It is not part of the Python Standard Library."
   ]
  },
  {
   "cell_type": "code",
   "execution_count": null,
   "id": "3fe39d1f",
   "metadata": {},
   "outputs": [],
   "source": [
    "# PyInputPlus is commonly imported with the alias pypi (import pyinputplus as pypi)\n",
    "# for brevity and ease of use. However, it's worth noting that the alias pypi is not universally used,\n",
    "# and developers can choose any alias they prefer when importing modules."
   ]
  },
  {
   "cell_type": "code",
   "execution_count": null,
   "id": "1094fb4b",
   "metadata": {},
   "outputs": [],
   "source": [
    "# inputInt(): This function is used when you want to prompt the user for an integer input. \n",
    "# It ensures that the input provided by the user can be converted to an integer. \n",
    "# If the user enters a non-integer value, PyInputPlus will reprompt the user until a valid integer is provided.\n",
    "# Example:\n",
    "# import pyinputplus as pyip\n",
    "# num = pyip.inputInt(prompt=\"Enter an integer: \")\n",
    "\n",
    "# inputFloat(): This function is used when you want to prompt the user for a floating-point number input. \n",
    "# It ensures that the input provided by the user can be converted to a floating-point number. \n",
    "# If the user enters a non-numeric value or an integer, PyInputPlus will reprompt the user until a valid floating-point\n",
    "# number is provided.\n",
    "# Example:\n",
    "# import pyinputplus as pyip\n",
    "# num = pyip.inputFloat(prompt=\"Enter a floating-point number: \")"
   ]
  },
  {
   "cell_type": "code",
   "execution_count": null,
   "id": "1adc7470",
   "metadata": {},
   "outputs": [],
   "source": [
    "# import pyinputplus as pyip\n",
    "# num = pyip.inputInt(prompt=\"Enter a whole number between 0 and 99: \", min=0, max=99)\n",
    "\n",
    "# In this code:\n",
    "# inputInt() prompts the user to enter an integer.\n",
    "# prompt=\"Enter a whole number between 0 and 99: \" specifies the message displayed to the user.\n",
    "# min=0 specifies that the minimum allowed value is 0.\n",
    "# max=99 specifies that the maximum allowed value is 99."
   ]
  },
  {
   "cell_type": "code",
   "execution_count": null,
   "id": "0f6e64fd",
   "metadata": {},
   "outputs": [],
   "source": [
    "# allowRegexes: This argument accepts a list of regular expression patterns. If any of the patterns in this list match the user's input,\n",
    "# the input is considered valid. If the input matches any pattern in allowRegexes, it is accepted,\n",
    "# regardless of other validation criteria. If allowRegexes is provided, it overrides other validation methods.\n",
    "\n",
    "# blockRegexes: This argument also accepts a list of regular expression patterns. If any of the patterns in this list\n",
    "# match the user's input, the input is considered invalid, and the user is prompted to enter a new value. \n",
    "# If the input matches any pattern in blockRegexes, it is rejected."
   ]
  },
  {
   "cell_type": "code",
   "execution_count": null,
   "id": "fcd8f521",
   "metadata": {},
   "outputs": [],
   "source": [
    "# If a blank input is entered three times while using inputStr(limit=3), PyInputPlus will raise a pyinputplus.\n",
    "# RetryLimitException. This exception indicates that the user exceeded the maximum number of retries allowed, \n",
    "# which in this case is set to 3.\n",
    "\n",
    "# import pyinputplus as pyip\n",
    "# try:\n",
    "#     user_input = pyip.inputStr(prompt=\"Enter something: \", limit=3)\n",
    "#     print(\"You entered:\", user_input)\n",
    "# except pyip.RetryLimitException:\n",
    "#     print(\"You exceeded the maximum number of retries.\")\n",
    "# If the user enters a blank input three times, the program will catch the pyinputplus.\n",
    "# RetryLimitException and print \"You exceeded the maximum number of retries.\""
   ]
  },
  {
   "cell_type": "code",
   "execution_count": null,
   "id": "f0d22deb",
   "metadata": {},
   "outputs": [],
   "source": [
    "# If a blank input is entered three times while using inputStr(limit=3, default='hello'), \n",
    "# PyInputPlus will return the default value 'hello' after the third unsuccessful attempt. \n",
    "# This behavior ensures that the program does not get stuck in an infinite loop waiting for valid input.\n",
    "\n",
    "# import pyinputplus as pyip\n",
    "# user_input = pyip.inputStr(prompt=\"Enter something: \", limit=3, default='hello')\n",
    "# print(\"You entered:\", user_input)\n",
    "# If the user enters a blank input three times, PyInputPlus will return the default value 'hello'. \n",
    "# This prevents the program from raising a pyinputplus.RetryLimitException and allows it to continue\n",
    "# executing with the default value."
   ]
  }
 ],
 "metadata": {
  "kernelspec": {
   "display_name": "Python 3 (ipykernel)",
   "language": "python",
   "name": "python3"
  },
  "language_info": {
   "codemirror_mode": {
    "name": "ipython",
    "version": 3
   },
   "file_extension": ".py",
   "mimetype": "text/x-python",
   "name": "python",
   "nbconvert_exporter": "python",
   "pygments_lexer": "ipython3",
   "version": "3.8.10"
  }
 },
 "nbformat": 4,
 "nbformat_minor": 5
}
