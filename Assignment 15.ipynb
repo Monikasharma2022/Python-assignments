{
 "cells": [
  {
   "cell_type": "code",
   "execution_count": null,
   "id": "4023b483",
   "metadata": {},
   "outputs": [],
   "source": []
  },
  {
   "cell_type": "code",
   "execution_count": null,
   "id": "52daebc3",
   "metadata": {},
   "outputs": [],
   "source": [
    "# seconds_in_minute = 60\n",
    "# minutes_in_hour = 60\n",
    "# seconds_in_hour = seconds_in_minute * minutes_in_hour\n",
    "# print(\"Number of seconds in an hour:\", seconds_in_hour)\n"
   ]
  },
  {
   "cell_type": "code",
   "execution_count": 1,
   "id": "5c18fce9",
   "metadata": {},
   "outputs": [
    {
     "data": {
      "text/plain": [
       "3600"
      ]
     },
     "execution_count": 1,
     "metadata": {},
     "output_type": "execute_result"
    }
   ],
   "source": [
    "60 * 60"
   ]
  },
  {
   "cell_type": "code",
   "execution_count": 2,
   "id": "0d2c20b8",
   "metadata": {},
   "outputs": [],
   "source": [
    "seconds_per_hour = 60 * 60"
   ]
  },
  {
   "cell_type": "code",
   "execution_count": 3,
   "id": "8b423b12",
   "metadata": {},
   "outputs": [
    {
     "name": "stdout",
     "output_type": "stream",
     "text": [
      "Number of seconds in a day: 86400\n"
     ]
    }
   ],
   "source": [
    "seconds_per_hour = 60 * 60\n",
    "hours_per_day = 24\n",
    "\n",
    "seconds_per_day = seconds_per_hour * hours_per_day\n",
    "print(\"Number of seconds in a day:\", seconds_per_day)\n"
   ]
  },
  {
   "cell_type": "code",
   "execution_count": 4,
   "id": "d28391cb",
   "metadata": {},
   "outputs": [],
   "source": [
    "seconds_per_hour = 60 * 60\n",
    "hours_per_day = 24\n",
    "seconds_per_day = seconds_per_hour * hours_per_day"
   ]
  },
  {
   "cell_type": "code",
   "execution_count": 6,
   "id": "107a09f1",
   "metadata": {},
   "outputs": [
    {
     "name": "stdout",
     "output_type": "stream",
     "text": [
      "24.0\n"
     ]
    }
   ],
   "source": [
    "# Divide seconds_per_day by seconds_per_hour using floating-point division\n",
    "result = seconds_per_day / seconds_per_hour\n",
    "print(result)"
   ]
  },
  {
   "cell_type": "code",
   "execution_count": 7,
   "id": "47a2858c",
   "metadata": {},
   "outputs": [
    {
     "name": "stdout",
     "output_type": "stream",
     "text": [
      "Result of dividing seconds_per_day by seconds_per_hour using integer division: 24\n"
     ]
    }
   ],
   "source": [
    "# Divide seconds_per_day by seconds_per_hour using integer division\n",
    "result_integer_division = seconds_per_day // seconds_per_hour\n",
    "print(\"Result of dividing seconds_per_day by seconds_per_hour using integer division:\", result_integer_division)"
   ]
  },
  {
   "cell_type": "code",
   "execution_count": 18,
   "id": "ecb45608",
   "metadata": {},
   "outputs": [
    {
     "name": "stdout",
     "output_type": "stream",
     "text": [
      "2\n",
      "3\n",
      "5\n",
      "7\n",
      "11\n"
     ]
    }
   ],
   "source": [
    "def genPrimes():\n",
    "    \"\"\"Generator function to generate prime numbers.\"\"\"\n",
    "    primes = []  # List to store generated prime numbers\n",
    "    num = 2      # Start with the first prime number\n",
    "\n",
    "    while True:\n",
    "        # Check if num is prime\n",
    "        is_prime = True\n",
    "        for prime in primes:\n",
    "            if num % prime == 0:\n",
    "                is_prime = False\n",
    "                break\n",
    "        if is_prime:\n",
    "            yield num  # Yield the prime number\n",
    "            primes.append(num)  # Add the prime number to the list of primes\n",
    "\n",
    "        num += 1  # Move to the next number to check for primality\n",
    "\n",
    "# Usage example:\n",
    "gen = genPrimes()\n",
    "for _ in range(5):\n",
    "    print(next(gen))  # Print the first 5 prime numbers"
   ]
  },
  {
   "cell_type": "code",
   "execution_count": null,
   "id": "d67bb33a",
   "metadata": {},
   "outputs": [],
   "source": []
  },
  {
   "cell_type": "code",
   "execution_count": null,
   "id": "ca9a5a83",
   "metadata": {},
   "outputs": [],
   "source": []
  },
  {
   "cell_type": "code",
   "execution_count": null,
   "id": "c6096af1",
   "metadata": {},
   "outputs": [],
   "source": []
  }
 ],
 "metadata": {
  "kernelspec": {
   "display_name": "Python 3 (ipykernel)",
   "language": "python",
   "name": "python3"
  },
  "language_info": {
   "codemirror_mode": {
    "name": "ipython",
    "version": 3
   },
   "file_extension": ".py",
   "mimetype": "text/x-python",
   "name": "python",
   "nbconvert_exporter": "python",
   "pygments_lexer": "ipython3",
   "version": "3.8.10"
  }
 },
 "nbformat": 4,
 "nbformat_minor": 5
}
