{
 "cells": [
  {
   "cell_type": "code",
   "execution_count": null,
   "id": "acf83acb",
   "metadata": {},
   "outputs": [],
   "source": [
    "# 1. What does RGBA stand for?\n",
    "# 2. From the Pillow module, how do you get the RGBA value of any images?\n",
    "# 3. What is a box tuple, and how does it work?\n",
    "# 4. Use your image and load in notebook then, How can you find out the width and height of an\n",
    "# Image object?\n",
    "# 5. What method would you call to get Image object for a 100×100 image, excluding the lower-left\n",
    "# quarter of it?\n",
    "# 6. After making changes to an Image object, how could you save it as an image file?\n",
    "# 7. What module contains Pillow’s shape-drawing code?\n",
    "# 8. Image objects do not have drawing methods. What kind of object does? How do you get this kind\n",
    "# of object?"
   ]
  },
  {
   "cell_type": "code",
   "execution_count": null,
   "id": "d1aad0be",
   "metadata": {},
   "outputs": [],
   "source": [
    "# RGBA stands for:\n",
    "# R: Red\n",
    "# G: Green\n",
    "# B: Blue\n",
    "# A: Alpha\n",
    "# RGBA is a color model that represents colors using combinations of red, green, and blue channels, similar to RGB \n",
    "# (Red, Green, Blue). However, RGBA also includes an additional alpha channel, which represents the opacity or \n",
    "# transparency of the color. The alpha channel determines how much the color is blended with the background color, \n",
    "# allowing for effects such as transparency or translucency. The alpha value ranges from 0 (completely transparent) \n",
    "# to 1 (completely opaque)."
   ]
  },
  {
   "cell_type": "code",
   "execution_count": null,
   "id": "76e632f1",
   "metadata": {},
   "outputs": [],
   "source": [
    "# In the Pillow module, you can use the getpixel() method to retrieve the RGBA (Red, Green, Blue, Alpha) value of any pixel in an image. Here's how you can do it:\n",
    "# from PIL import Image\n",
    "\n",
    "# # Open the image file\n",
    "# image = Image.open('example.jpg')  #  path to image file\n",
    "\n",
    "# # Get the RGBA value of a specific pixel (x, y)\n",
    "# x = 100  # x-coordinate of the pixel\n",
    "# y = 200  # y-coordinate of the pixel\n",
    "# rgba_value = image.getpixel((x, y))\n",
    "\n",
    "# # Print the RGBA value\n",
    "# print(\"RGBA value at pixel ({}, {}): {}\".format(x, y, rgba_value))\n",
    "# Replace 'example.jpg' with the path to the image file you want to analyze. In this example, getpixel() is used to retrieve\n",
    "# the RGBA value of the pixel at coordinates (x, y) in the image. The getpixel() method returns a tuple containing the\n",
    "# RGBA values for that pixel. The RGBA values range from 0 to 255, where 0 represents no intensity (for example,\n",
    "# fully transparent or absence of color) and 255 represents full intensity (fully opaque or maximum color intensity)."
   ]
  },
  {
   "cell_type": "code",
   "execution_count": null,
   "id": "4ab7f6d0",
   "metadata": {},
   "outputs": [],
   "source": [
    "# In the context of the Pillow module in Python, a \"box tuple\" refers to a tuple representing a rectangular region in an image.\n",
    "# It is commonly used to define regions of interest (ROI) or specify areas for image processing operations, such as cropping or pasting.\n",
    "\n",
    "# A box tuple typically consists of four integers representing the coordinates of the top-left corner and the bottom-right\n",
    "# corner of the rectangular region, in the order (left, top, right, bottom). Here's what each value in the tuple represents:\n",
    "\n",
    "# left: The x-coordinate of the left edge of the box.\n",
    "# top: The y-coordinate of the top edge of the box.\n",
    "# right: The x-coordinate of the right edge of the box.\n",
    "# bottom: The y-coordinate of the bottom edge of the box."
   ]
  },
  {
   "cell_type": "code",
   "execution_count": 2,
   "id": "a61ef7e7",
   "metadata": {},
   "outputs": [
    {
     "name": "stdout",
     "output_type": "stream",
     "text": [
      "Width: 1280\n",
      "Height: 1030\n"
     ]
    }
   ],
   "source": [
    "from PIL import Image\n",
    "\n",
    "# Open the image file\n",
    "image = Image.open('my_sign.jpg')\n",
    "\n",
    "# Get the width and height of the image\n",
    "width, height = image.size\n",
    "\n",
    "# Print the width and height\n",
    "print(\"Width:\", width)\n",
    "print(\"Height:\", height)"
   ]
  },
  {
   "cell_type": "code",
   "execution_count": 5,
   "id": "4346b079",
   "metadata": {},
   "outputs": [],
   "source": [
    "from PIL import Image\n",
    "\n",
    "# Open the image file\n",
    "image = Image.open('my_sign.jpg')\n",
    "\n",
    "# Define the box tuple for the upper-right three-quarters\n",
    "box = (50, 0, 100, 50)\n",
    "\n",
    "# Crop the image to the specified region\n",
    "cropped_image = image.crop(box)\n",
    "\n",
    "# Display or save the cropped image as needed\n",
    "cropped_image.show()"
   ]
  },
  {
   "cell_type": "code",
   "execution_count": null,
   "id": "96f9b1e9",
   "metadata": {},
   "outputs": [],
   "source": [
    "# from PIL import Image\n",
    "# # Open the image file\n",
    "# image = Image.open('my_sign.jpg')\n",
    "\n",
    "# # Make changes to the image (e.g., cropping)\n",
    "# # For example, let's crop the image to the upper-right three-quarters\n",
    "# box = (50, 0, 100, 50)\n",
    "# cropped_image = image.crop(box)\n",
    "\n",
    "# # Save the modified image to a file\n",
    "# cropped_image.save('cropped_image.jpg')\n",
    "\n",
    "# In this code:\n",
    "# We make changes to the image object, such as cropping it to the upper-right three-quarters.\n",
    "# We then use the save() method to save the modified image to a file. \n",
    "# The first argument to the save() method is the file name or path where you want to save the image. \n",
    "# In this example, we're saving the image as 'cropped_image.jpg'."
   ]
  },
  {
   "cell_type": "code",
   "execution_count": 6,
   "id": "557ed91b",
   "metadata": {},
   "outputs": [],
   "source": [
    "from PIL import Image, ImageDraw\n",
    "\n",
    "# Open an image file\n",
    "image = Image.open('my_sign.jpg')\n",
    "\n",
    "# Create an ImageDraw object\n",
    "draw = ImageDraw.Draw(image)\n",
    "\n",
    "# Draw a rectangle on the image\n",
    "draw.rectangle([50, 50, 150, 150], outline='red', width=2)\n",
    "\n",
    "# Save or display the modified image\n",
    "image.show()\n",
    "\n",
    "# In this example:\n",
    "# We first open an image file using Image.open().\n",
    "# Then, we create an ImageDraw object using ImageDraw.Draw().\n",
    "# We use the rectangle() method of the ImageDraw object to draw a rectangle on the image. \n",
    "# The rectangle is defined by a list of four coordinates [x1, y1, x2, y2], where (x1, y1) \n",
    "# represents the top-left corner and (x2, y2) represents the bottom-right corner.\n",
    "# Finally, we save or display the modified image.\n",
    "# The ImageDraw module provides various methods to draw shapes such as lines, rectangles, ellipses, polygons, and text on images."
   ]
  },
  {
   "cell_type": "code",
   "execution_count": null,
   "id": "821b8e87",
   "metadata": {},
   "outputs": [],
   "source": [
    "# Image objects themselves do not have drawing methods. Instead, you need to create an ImageDraw object to draw shapes, text,\n",
    "# and other elements on images.\n",
    "\n",
    "# To get an ImageDraw object, you need to import the ImageDraw module from Pillow and then create an instance of the\n",
    "# ImageDraw.Draw() class, passing the Image object you want to draw on as an argument.\n",
    "\n",
    "# Here's an example of how to create an ImageDraw object:\n",
    "# from PIL import Image, ImageDraw\n",
    "\n",
    "# # Open an image file\n",
    "# image = Image.open('example.jpg')\n",
    "\n",
    "# # Create an ImageDraw object\n",
    "# draw = ImageDraw.Draw(image)"
   ]
  }
 ],
 "metadata": {
  "kernelspec": {
   "display_name": "Python 3 (ipykernel)",
   "language": "python",
   "name": "python3"
  },
  "language_info": {
   "codemirror_mode": {
    "name": "ipython",
    "version": 3
   },
   "file_extension": ".py",
   "mimetype": "text/x-python",
   "name": "python",
   "nbconvert_exporter": "python",
   "pygments_lexer": "ipython3",
   "version": "3.8.10"
  }
 },
 "nbformat": 4,
 "nbformat_minor": 5
}
