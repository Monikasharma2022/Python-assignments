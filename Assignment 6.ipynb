{
 "cells": [
  {
   "cell_type": "code",
   "execution_count": null,
   "id": "a99f7d46",
   "metadata": {},
   "outputs": [],
   "source": [
    "# 1. What are escape characters, and how do you use them?\n",
    "# 2. What do the escape characters n and t stand for?\n",
    "# 3. What is the way to include backslash characters in a string?\n",
    "# 4. The string &quot;Howl&#39;s Moving Castle&quot; is a correct value. Why isn&#39;t the single quote character in the\n",
    "# word Howl&#39;s not escaped a problem?\n",
    "# 5. How do you write a string of newlines if you don&#39;t want to use the n character?\n",
    "# 6. What are the values of the given expressions?\n",
    "# &#39;Hello, world!&#39;[1]\n",
    "# &#39;Hello, world!&#39;[0:5]\n",
    "# &#39;Hello, world!&#39;[:5]\n",
    "# &#39;Hello, world!&#39;[3:]\n",
    "\n",
    "# 7. What are the values of the following expressions?\n",
    "# &#39;Hello&#39;.upper()\n",
    "# &#39;Hello&#39;.upper().isupper()\n",
    "# &#39;Hello&#39;.upper().lower()\n",
    "# 8. What are the values of the following expressions?\n",
    "# &#39;Remember, remember, the fifth of July.&#39;.split()\n",
    "# &#39;-&#39;.join(&#39;There can only one.&#39;.split())\n",
    "# 9. What are the methods for right-justifying, left-justifying, and centering a string?\n",
    "# 10. What is the best way to remove whitespace characters from the start or end?"
   ]
  },
  {
   "cell_type": "markdown",
   "id": "7c123ce1",
   "metadata": {},
   "source": [
    "# Answers"
   ]
  },
  {
   "cell_type": "code",
   "execution_count": null,
   "id": "a7a99d0f",
   "metadata": {},
   "outputs": [],
   "source": [
    "# Escape characters in Python are special characters preceded by a backslash \\. \n",
    "# They are used to represent characters that are difficult or impossible to type directly into a string. \n",
    "# Escape characters are particularly useful for inserting special characters like newline \\n, tab \\t, or quotation marks \\\" into strings.\n",
    "\n",
    "# Here are some common escape characters in Python:\n",
    "\n",
    "# \\n: Newline character. It inserts a newline.\n",
    "# \\t: Tab character. It inserts a tab.\n",
    "# \\': Single quote character.\n",
    "# \\\": Double quote character.\n",
    "# \\\\: Backslash character.\n",
    "\n",
    "# print(\"Hello\\nWorld\")  # Output: Hello\n",
    "#                         #         World\n",
    "# print(\"This is a\\ttab\")  # Output: This is a    tab\n",
    "# print(\"He said, \\\"Hello!\\\"\")  # Output: He said, \"Hello!\"\n",
    "# print('C:\\\\Users\\\\Username\\\\Documents')  # Output: C:\\Users\\Username\\Documents"
   ]
  },
  {
   "cell_type": "code",
   "execution_count": null,
   "id": "8b55d60a",
   "metadata": {},
   "outputs": [],
   "source": [
    "# \\n: Newline character. It inserts a newline.\n",
    "# \\t: Tab character. It inserts a tab."
   ]
  },
  {
   "cell_type": "code",
   "execution_count": null,
   "id": "3da50abb",
   "metadata": {},
   "outputs": [],
   "source": [
    "# \\\\: Backslash character."
   ]
  },
  {
   "cell_type": "code",
   "execution_count": null,
   "id": "492d3a4a",
   "metadata": {},
   "outputs": [],
   "source": [
    "# In Python, you can use single quotes ' to define a string, and you can also use double quotes \" to define a string.\n",
    "# Both single quotes and double quotes can be used interchangeably to define string literals.\n",
    "# Therefore, when you have a string like \"Howl's Moving Castle\", it's perfectly valid in Python. \n",
    "# The single quote character ' in the word \"Howl's\" does not need to be escaped because the string itself is enclosed in double quotes \",\n",
    "# so Python treats the single quote inside the string as a literal character and not as the end of the string."
   ]
  },
  {
   "cell_type": "code",
   "execution_count": null,
   "id": "6ce78154",
   "metadata": {},
   "outputs": [],
   "source": [
    "# If you want to write a string with newlines without using the \\n character directly, you can use triple quotes ''' or\n",
    "# \"\"\" to create a multiline string. Here's how you can do it:\n",
    "\n",
    "# multiline_string = '''This is a string\n",
    "# with multiple lines\n",
    "# without using the \\\\n character.'''"
   ]
  },
  {
   "cell_type": "code",
   "execution_count": null,
   "id": "91914812",
   "metadata": {},
   "outputs": [],
   "source": [
    "# 'Hello, world!'[1]:\n",
    "# This expression accesses the character at index 1 in the string 'Hello, world!', which is 'e'.\n",
    "# So, the value of this expression is 'e'.\n",
    "\n",
    "# 'Hello, world!'[0:5]:\n",
    "# This expression extracts the substring from index 0 (inclusive) to index 5 (exclusive) from the string 'Hello, world!'.\n",
    "# It retrieves characters 'H', 'e', 'l', 'l', 'o', which are at indices 0 through 4.\n",
    "# So, the value of this expression is 'Hello'.\n",
    "\n",
    "# 'Hello, world!'[:5]:\n",
    "# This expression extracts the substring from the beginning of the string up to index 5 (exclusive).\n",
    "# It retrieves characters 'H', 'e', 'l', 'l', 'o', which are at indices 0 through 4.\n",
    "# So, the value of this expression is 'Hello'.\n",
    "\n",
    "# 'Hello, world!'[3:]:\n",
    "# This expression extracts the substring from index 3 (inclusive) to the end of the string.\n",
    "# It retrieves characters 'l', 'l', 'o', ' ', 'w', 'o', 'r', 'l', 'd', '!', which are at indices 3 through the end of the string.\n",
    "# So, the value of this expression is 'lo, world!'."
   ]
  },
  {
   "cell_type": "code",
   "execution_count": null,
   "id": "7c275d4e",
   "metadata": {},
   "outputs": [],
   "source": [
    "# 'Hello'.upper():\n",
    "# This expression calls the upper() method on the string 'Hello', which converts all characters in the string to uppercase.\n",
    "# So, the value of this expression is 'HELLO'.\n",
    "\n",
    "# 'Hello'.upper().isupper():\n",
    "# This expression chains method calls. First, it calls upper() on the string 'Hello', resulting in 'HELLO'.\n",
    "# Then, it calls the isupper() method on the result 'HELLO', which checks if all characters in the string are uppercase.\n",
    "# Since all characters in 'HELLO' are indeed uppercase, the value of this expression is True.\n",
    "\n",
    "# 'Hello'.upper().lower():\n",
    "# This expression chains method calls. First, it calls upper() on the string 'Hello', resulting in 'HELLO'.\n",
    "# Then, it calls the lower() method on the result 'HELLO', which converts all characters in the string to lowercase.\n",
    "# So, the value of this expression is 'hello'."
   ]
  },
  {
   "cell_type": "code",
   "execution_count": null,
   "id": "65beac6f",
   "metadata": {},
   "outputs": [],
   "source": [
    "# 'Remember, remember, the fifth of July.'.split():\n",
    "# This expression calls the split() method on the string 'Remember, remember, the fifth of July.'.\n",
    "# By default, the split() method splits the string by whitespace and returns a list of substrings.\n",
    "# So, the value of this expression is ['Remember,', 'remember,', 'the', 'fifth', 'of', 'July.'].\n",
    "\n",
    "# '-'.join('There can only one.'.split()):\n",
    "# This expression splits the string 'There can only one.' by whitespace using the split() method, resulting in ['There', 'can', 'only', 'one.'].\n",
    "# Then, it uses the join() method to join the elements of the resulting list with the hyphen '-' between them.\n",
    "# So, the value of this expression is 'There-can-only-one.'.\n",
    "# Therefore, the values of the given expressions are:\n",
    "\n",
    "# ['Remember,', 'remember,', 'the', 'fifth', 'of', 'July.']\n",
    "# 'There-can-only-one.'"
   ]
  },
  {
   "cell_type": "code",
   "execution_count": null,
   "id": "31d45f78",
   "metadata": {},
   "outputs": [],
   "source": [
    "# Right-justifying a string: You can use the str.rjust(width, fillchar) method. This method right-justifies the string within a field of a specified width.\n",
    "# If the string is shorter than the width, it is padded with spaces (or optionally with a specified fill character) on the left.\n",
    "# Syntax: str.rjust(width, fillchar)\n",
    "# Example: s = 'Hello'.rjust(10)\n",
    "\n",
    "# Left-justifying a string: You can use the str.ljust(width, fillchar) method. This method left-justifies the string within a field of a specified width.\n",
    "# If the string is shorter than the width, it is padded with spaces (or optionally with a specified fill character) on the right.\n",
    "# Syntax: str.ljust(width, fillchar)\n",
    "# Example: s = 'Hello'.ljust(10)\n",
    "\n",
    "# Centering a string: You can use the str.center(width, fillchar) method. This method centers the string within a field of a specified width. \n",
    "# If the string is shorter than the width, it is padded with spaces (or optionally with a specified fill character) on both sides.\n",
    "# Syntax: str.center(width, fillchar)\n",
    "# Example: s = 'Hello'.center(10)\n",
    "\n",
    "# In all cases, width specifies the total width of the resulting string, and fillchar is an optional parameter specifying the character used for padding.\n",
    "# If fillchar is not provided, it defaults to a space character.\n",
    "\n",
    "# Here are some examples:\n",
    "# s = 'Hello'\n",
    "# right_justified = s.rjust(10)    # '     Hello'\n",
    "# left_justified = s.ljust(10)     # 'Hello     '\n",
    "# centered = s.center(10)          # '  Hello   '"
   ]
  },
  {
   "cell_type": "code",
   "execution_count": null,
   "id": "bf6a9352",
   "metadata": {},
   "outputs": [],
   "source": [
    "# The best way to remove whitespace characters from the start or end of a string in Python is to use the str.strip() method. \n",
    "# This method removes leading and trailing whitespace characters (spaces, tabs, newlines) from the string and returns the result. \n",
    "\n",
    "# s = \"   Hello, World!   \"\n",
    "# trimmed = s.strip()  # Removes leading and trailing whitespace\n",
    "# print(trimmed)       # Output: \"Hello, World!\"\n",
    "\n",
    "# If you only want to remove whitespace characters from the start or end of the string (but not both), \n",
    "# you can use str.lstrip() to remove leading whitespace or str.rstrip() to remove trailing whitespace.\n",
    "\n",
    "# s = \"   Hello, World!   \"\n",
    "# left_trimmed = s.lstrip()   # Removes leading whitespace\n",
    "# right_trimmed = s.rstrip()  # Removes trailing whitespace\n",
    "# print(left_trimmed)         # Output: \"Hello, World!   \"\n",
    "# print(right_trimmed)        # Output: \"   Hello, World!\""
   ]
  },
  {
   "cell_type": "code",
   "execution_count": null,
   "id": "03da3e2c",
   "metadata": {},
   "outputs": [],
   "source": []
  },
  {
   "cell_type": "code",
   "execution_count": null,
   "id": "68f2db24",
   "metadata": {},
   "outputs": [],
   "source": []
  }
 ],
 "metadata": {
  "kernelspec": {
   "display_name": "Python 3 (ipykernel)",
   "language": "python",
   "name": "python3"
  },
  "language_info": {
   "codemirror_mode": {
    "name": "ipython",
    "version": 3
   },
   "file_extension": ".py",
   "mimetype": "text/x-python",
   "name": "python",
   "nbconvert_exporter": "python",
   "pygments_lexer": "ipython3",
   "version": "3.8.10"
  }
 },
 "nbformat": 4,
 "nbformat_minor": 5
}
