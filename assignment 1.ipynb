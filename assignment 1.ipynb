{
 "cells": [
  {
   "cell_type": "code",
   "execution_count": null,
   "id": "553479a1",
   "metadata": {},
   "outputs": [],
   "source": [
    "Question.....\n",
    "# 1. In the below elements which of them are values or an expression? eg:- values can be\n",
    "#  integer or string and expressions will be mathematical operators.\n",
    "\n",
    "# 'hello'\n",
    "# -87.8\n",
    "# -\n",
    "# /\n",
    "# +\n",
    "# 6  \n",
    "\n",
    "\n",
    "# 2. What is the difference between string and variable?\n",
    "\n",
    "# 3. Describe three different data types.\n",
    "\n",
    "# 4. What is an expression made up of? What do all expressions do?\n",
    "# 5. This assignment statements, like spam = 10. What is the difference between an\n",
    "# expression and a statement?\n",
    "# 6. After running the following code, what does the variable bacon contain?\n",
    "# bacon = 22\n",
    "# bacon + 1\n",
    "\n",
    "# 7. What should the values of the following two terms be?\n",
    "# &#39;spam&#39; + &#39;spamspam&#39;\n",
    "# &#39;spam&#39; * 3\n",
    "\n",
    "# 8. Why is eggs a valid variable name while 100 is invalid?\n",
    "\n",
    "# 9. What three functions can be used to get the integer, floating-point number, or string\n",
    "# version of a value?\n",
    "# 10. Why does this expression cause an error? How can you fix it?\n",
    "# &#39;I have eaten &#39; + 99 + &#39; burritos.&#39;"
   ]
  },
  {
   "cell_type": "markdown",
   "id": "1d321f38",
   "metadata": {},
   "source": [
    "# Answers"
   ]
  },
  {
   "cell_type": "code",
   "execution_count": null,
   "id": "fcf10af6",
   "metadata": {},
   "outputs": [],
   "source": [
    "#  *This is a mathematical operator (multiplication).\n",
    "# 'hello'  This is a value, specifically a string.\n",
    "# -87.8  This is a value, specifically a floating-point number.\n",
    "# -  This is a mathematical operator (subtraction).\n",
    "# /  This is a mathematical operator (division).\n",
    "# +  This is a mathematical operator (addition).\n",
    "# 6  This is a value, specifically an integer.  "
   ]
  },
  {
   "cell_type": "code",
   "execution_count": null,
   "id": "9724a858",
   "metadata": {},
   "outputs": [],
   "source": [
    "#  A string is a data type in Python used to represent text or a sequence of characters.\n",
    "# Strings are enclosed in single (') or double (\") quotes.\n",
    "# Example: my_string = 'Hello, World!'\n",
    "\n",
    "# A variable is a name that refers to a value or an object in Python.\n",
    "# It is a way to store and manage data in a program.\n",
    "# Variables can store different types of data, including strings, numbers, and more complex data structures.\n",
    "# Example:my_variable = 42\n"
   ]
  },
  {
   "cell_type": "code",
   "execution_count": null,
   "id": "1d747a3e",
   "metadata": {},
   "outputs": [],
   "source": [
    "# Integer (int): Represents whole numbers, both positive and negative.\n",
    "# Examples:\n",
    "# x = 5\n",
    "# y = -10\n",
    "\n",
    "# String (str): Represents sequences of characters, typically used for text.\n",
    "# Enclosed in single (') or double (\") quotes.\n",
    "# Examples:\n",
    "# name = 'John'\n",
    "# message = \"Hello, World!\"\n",
    "\n",
    "# Float (float): Represents floating-point numbers, which include decimal points.\n",
    "# Examples:\n",
    "# pi = 3.14\n",
    "# temperature = -10.5\n"
   ]
  },
  {
   "cell_type": "code",
   "execution_count": null,
   "id": "b4b45269",
   "metadata": {},
   "outputs": [],
   "source": [
    "# An expression in programming is made up of one or more operands and operators that can be evaluated to produce a value.\n",
    "\n",
    "# Operands:\n",
    "# These are the values or variables on which an operation is performed.\n",
    "# Examples of operands: numbers (e.g., 5, 3.14), variables (e.g., x, y), or other expressions.\n",
    "\n",
    "# Operators:\n",
    "# These are symbols that represent computations or operations on operands.\n",
    "# Examples of operators: + (addition), - (subtraction), * (multiplication), / (division), = (assignment), and more."
   ]
  },
  {
   "cell_type": "code",
   "execution_count": null,
   "id": "e693919d",
   "metadata": {},
   "outputs": [],
   "source": [
    "# An expression is a combination of values, variables, and operators that can be evaluated to produce a result.\n",
    "# It always returns a value.\n",
    "# Examples:\n",
    "# result = 3 + 4 * 2  # Arithmetic expression\n",
    "# length_of_greeting = len(\"Hello, World!\")  # Function call expression\n",
    "\n",
    "# Statement:\n",
    "# A statement is a complete line of code that performs a specific action.\n",
    "# It may or may not produce a value.\n",
    "# Examples:\n",
    "# spam = 10  # Assignment statement\n",
    "# print(\"Hello, World!\")  # Print statement\n",
    "# if x > 0:  # If statement\n",
    "#     do_something()"
   ]
  },
  {
   "cell_type": "code",
   "execution_count": null,
   "id": "4d1fda25",
   "metadata": {},
   "outputs": [],
   "source": [
    "# The variable bacon initially contains the value 22. However, the expression bacon + 1 is evaluated,\n",
    "# but the result is not stored back in the variable bacon unless you explicitly assign it.\n",
    "# Therefore, after running the code, the variable bacon still contains the original value, 22."
   ]
  },
  {
   "cell_type": "code",
   "execution_count": null,
   "id": "bfd4b649",
   "metadata": {},
   "outputs": [],
   "source": [
    "# 'spam' + 'spamspam': This involves string concatenation. It combines the string 'spam' with the string 'spamspam'. The result is a new string: 'spamspamspam'.\n",
    "\n",
    "# 'spam' * 3: This involves string repetition. It repeats the string 'spam' three times. The result is a new string: 'spamspamspam'.\n",
    "\n",
    "# Therefore, the values of both expressions are the same, and they are both equal to the string 'spamspamspam'."
   ]
  },
  {
   "cell_type": "code",
   "execution_count": null,
   "id": "b523aa51",
   "metadata": {},
   "outputs": [],
   "source": [
    "# In Python, variable names must follow certain rules to be valid:\n",
    "\n",
    "# Start with a letter (a-z, A-Z) or an underscore (_).\n",
    "# Followed by letters, numbers, or underscores.\n",
    "\n",
    "# Now,\n",
    "# eggs is a valid variable name:\n",
    "# It starts with a letter ('e').\n",
    "# The rest of the characters are also letters, which is allowed.\n",
    "\n",
    "# 100 is invalid as a variable name:\n",
    "# It starts with a number (1), violating the rule that variable names cannot start with a number.\n",
    "# Variable names in Python cannot consist solely of numbers"
   ]
  },
  {
   "cell_type": "code",
   "execution_count": null,
   "id": "2ee0c1ef",
   "metadata": {},
   "outputs": [],
   "source": [
    "# int(x): This function converts a value to an integer.\n",
    "# Example:\n",
    "# value = 42.8\n",
    "# integer_value = int(value)\n",
    "\n",
    "# float(x): This function converts a value to a floating-point number. \n",
    "# Example:\n",
    "# value = 42\n",
    "# float_value = float(value)\n",
    "\n",
    "# str(x): This function converts a value to a string.\n",
    "# Example:\n",
    "# value = 42.8\n",
    "# string_value = string(value)"
   ]
  },
  {
   "cell_type": "code",
   "execution_count": null,
   "id": "7e62a658",
   "metadata": {},
   "outputs": [],
   "source": [
    "# The expression 'I have eaten ' + 99 + ' burritos.' causes an error because it is trying to concatenate a string with an integer (99).\n",
    "# In Python, string concatenation requires that both operands are of string type.\n",
    "\n",
    "# To fix it, convert the integer 99 to a string using the str() function:\n",
    "# result = 'I have eaten ' + str(99) + ' burritos.'\n",
    "# This way, integer 99 is converted to a string before concatenating it with the other strings. The result will be a new string:\n",
    "\n",
    "# 'I have eaten 99 burritos.'"
   ]
  },
  {
   "cell_type": "code",
   "execution_count": null,
   "id": "adc0bc6f",
   "metadata": {},
   "outputs": [],
   "source": []
  }
 ],
 "metadata": {
  "kernelspec": {
   "display_name": "Python 3 (ipykernel)",
   "language": "python",
   "name": "python3"
  },
  "language_info": {
   "codemirror_mode": {
    "name": "ipython",
    "version": 3
   },
   "file_extension": ".py",
   "mimetype": "text/x-python",
   "name": "python",
   "nbconvert_exporter": "python",
   "pygments_lexer": "ipython3",
   "version": "3.8.10"
  }
 },
 "nbformat": 4,
 "nbformat_minor": 5
}
