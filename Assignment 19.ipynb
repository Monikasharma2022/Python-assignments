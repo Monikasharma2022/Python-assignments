{
 "cells": [
  {
   "cell_type": "code",
   "execution_count": null,
   "id": "e2a5e881",
   "metadata": {},
   "outputs": [],
   "source": [
    "# 1. Make a class called Thing with no contents and print it. Then, create an object called example\n",
    "# from this class and also print it. Are the printed values the same or different?\n",
    "# 2. Create a new class called Thing2 and add the value &#39;abc&#39; to the letters class attribute. Letters\n",
    "# should be printed.\n",
    "# 3. Make yet another class called, of course, Thing3. This time, assign the value &#39;xyz&#39; to an instance\n",
    "# (object) attribute called letters. Print letters. Do you need to make an object from the class to do\n",
    "# this?\n",
    "# 4. Create an Element class with the instance attributes name, symbol, and number. Create a class\n",
    "# object with the values &#39;Hydrogen,&#39; &#39;H,&#39; and 1.\n",
    "# 5. Make a dictionary with these keys and values: &#39;name&#39;: &#39;Hydrogen&#39;, &#39;symbol&#39;: &#39;H&#39;, &#39;number&#39;: 1. Then,\n",
    "# create an object called hydrogen from class Element using this dictionary.\n",
    "# 6. For the Element class, define a method called dump() that prints the values of the object’s\n",
    "# attributes (name, symbol, and number). Create the hydrogen object from this new definition and\n",
    "# use dump() to print its attributes.\n",
    "# 7. Call print(hydrogen). In the definition of Element, change the name of method dump to __str__,\n",
    "# create a new hydrogen object, and call print(hydrogen) again.\n",
    "# 8. Modify Element to make the attributes name, symbol, and number private. Define a getter\n",
    "# property for each to return its value.\n",
    "# 9. Define three classes: Bear, Rabbit, and Octothorpe. For each, define only one method: eats(). This\n",
    "# should return &#39;berries&#39; (Bear), &#39;clover&#39; (Rabbit), or &#39;campers&#39; (Octothorpe). Create one object from\n",
    "# each and print what it eats.\n",
    "# 10. Define these classes: Laser, Claw, and SmartPhone. Each has only one method: does(). This\n",
    "# returns &#39;disintegrate&#39; (Laser), &#39;crush&#39; (Claw), or &#39;ring&#39; (SmartPhone). Then, define the class Robot that\n",
    "# has one instance (object) of each of these. Define a does() method for the Robot that prints what its\n",
    "# component objects do."
   ]
  },
  {
   "cell_type": "code",
   "execution_count": 1,
   "id": "8e924471",
   "metadata": {},
   "outputs": [
    {
     "name": "stdout",
     "output_type": "stream",
     "text": [
      "<class '__main__.Thing'>\n",
      "<__main__.Thing object at 0x0000016981E69DC0>\n"
     ]
    }
   ],
   "source": [
    "class Thing:\n",
    "    pass\n",
    "\n",
    "print(Thing)\n",
    "\n",
    "example = Thing()\n",
    "print(example)"
   ]
  },
  {
   "cell_type": "code",
   "execution_count": null,
   "id": "67d0048a",
   "metadata": {},
   "outputs": [],
   "source": [
    "# The first print statement prints the class itself, indicating that it's a class named \"Thing\" in the main module.\n",
    "# The second print statement prints an instance of the class, showing that it's an object of type \"Thing\" at a specific\n",
    "# memory address. So, while they are related (the instance is an object created from the class), they are distinct entities."
   ]
  },
  {
   "cell_type": "code",
   "execution_count": 2,
   "id": "054545e9",
   "metadata": {},
   "outputs": [
    {
     "name": "stdout",
     "output_type": "stream",
     "text": [
      "abc\n"
     ]
    }
   ],
   "source": [
    "class Thing2:\n",
    "    letters = 'abc'\n",
    "\n",
    "print(Thing2.letters)"
   ]
  },
  {
   "cell_type": "code",
   "execution_count": 3,
   "id": "13f39de7",
   "metadata": {},
   "outputs": [
    {
     "name": "stdout",
     "output_type": "stream",
     "text": [
      "xyz\n"
     ]
    }
   ],
   "source": [
    "class Thing3:\n",
    "    def __init__(self):\n",
    "        self.letters = 'xyz'\n",
    "\n",
    "# Creating an object (instance) of the class Thing3\n",
    "example_thing3 = Thing3()\n",
    "\n",
    "# Printing the instance attribute letters\n",
    "print(example_thing3.letters)"
   ]
  },
  {
   "cell_type": "code",
   "execution_count": 8,
   "id": "033813b2",
   "metadata": {},
   "outputs": [
    {
     "name": "stdout",
     "output_type": "stream",
     "text": [
      "Hydrogen\n"
     ]
    }
   ],
   "source": [
    "class Element:\n",
    "    def __init__(self, name, symbol, number):\n",
    "        self.nam = name\n",
    "        self.symbo = symbol\n",
    "        self.numbe = number\n",
    "\n",
    "# Creating a class object with the specified values\n",
    "hydrogen = Element('Hydrogen', 'H', 1)\n",
    "print(hydrogen.nam)"
   ]
  },
  {
   "cell_type": "code",
   "execution_count": 9,
   "id": "76dfc020",
   "metadata": {},
   "outputs": [
    {
     "name": "stdout",
     "output_type": "stream",
     "text": [
      "Name: Hydrogen\n",
      "Symbol: H\n",
      "Number: 1\n"
     ]
    }
   ],
   "source": [
    "class Element:\n",
    "    def __init__(self, name, symbol, number):\n",
    "        self.name = name\n",
    "        self.symbol = symbol\n",
    "        self.number = number\n",
    "\n",
    "# Dictionary with keys and values\n",
    "element_info = {'name': 'Hydrogen', 'symbol': 'H', 'number': 1}\n",
    "\n",
    "# Creating an object from the Element class using the dictionary\n",
    "hydrogen = Element(**element_info)\n",
    "\n",
    "# the ** operator is used to unpack the dictionary and pass its key-value pairs as arguments to the Element constructor.\n",
    "# Printing attributes of the hydrogen object\n",
    "print(\"Name:\", hydrogen.name)\n",
    "print(\"Symbol:\", hydrogen.symbol)\n",
    "print(\"Number:\", hydrogen.number)\n"
   ]
  },
  {
   "cell_type": "code",
   "execution_count": 10,
   "id": "133e80b0",
   "metadata": {},
   "outputs": [
    {
     "name": "stdout",
     "output_type": "stream",
     "text": [
      "Name: Hydrogen\n",
      "Symbol: H\n",
      "Number: 1\n"
     ]
    }
   ],
   "source": [
    "class Element:\n",
    "    def __init__(self, name, symbol, number):\n",
    "        self.name = name\n",
    "        self.symbol = symbol\n",
    "        self.number = number\n",
    "    \n",
    "    def dump(self):\n",
    "        print(\"Name:\", self.name)\n",
    "        print(\"Symbol:\", self.symbol)\n",
    "        print(\"Number:\", self.number)\n",
    "\n",
    "# Creating an object from the Element class\n",
    "hydrogen = Element('Hydrogen', 'H', 1)\n",
    "\n",
    "# Using the dump() method to print its attributes\n",
    "hydrogen.dump()"
   ]
  },
  {
   "cell_type": "code",
   "execution_count": 11,
   "id": "ec92b232",
   "metadata": {},
   "outputs": [
    {
     "name": "stdout",
     "output_type": "stream",
     "text": [
      "<__main__.Element object at 0x0000016981E53A30>\n"
     ]
    }
   ],
   "source": [
    "print(hydrogen)"
   ]
  },
  {
   "cell_type": "code",
   "execution_count": 13,
   "id": "3fd97178",
   "metadata": {},
   "outputs": [
    {
     "name": "stdout",
     "output_type": "stream",
     "text": [
      "Name: Hydrogen, Symbol:H, Number: 1\n"
     ]
    }
   ],
   "source": [
    "class Element:\n",
    "    def __init__(self, name, symbol, number):\n",
    "        self.nam=name\n",
    "        self.symbo=symbol\n",
    "        self.numbe=number\n",
    "        \n",
    "    def __str__(self):\n",
    "        return f\"Name: {self.nam}, Symbol:{self.symbo}, Number: {self.numbe}\"\n",
    "    \n",
    "# class instance\n",
    "hydrogen=Element('Hydrogen', 'H', 1)\n",
    "print(hydrogen)\n",
    "        "
   ]
  },
  {
   "cell_type": "code",
   "execution_count": 16,
   "id": "e5b72471",
   "metadata": {},
   "outputs": [
    {
     "name": "stdout",
     "output_type": "stream",
     "text": [
      "Name: Hydrogen\n",
      "Symbol: H\n",
      "Number: 1\n"
     ]
    }
   ],
   "source": [
    "class Element:\n",
    "    def __init__(self, name, symbol, number):\n",
    "        self.__nam = name\n",
    "        self.__symbo = symbol\n",
    "        self.__numbe = number\n",
    "    \n",
    "    @property\n",
    "    def na(self):\n",
    "        return self.__nam\n",
    "    \n",
    "    @property\n",
    "    def symb(self):\n",
    "        return self.__symbo\n",
    "    \n",
    "    @property\n",
    "    def numb(self):\n",
    "        return self.__numbe\n",
    "\n",
    "# Creating an object from the Element class\n",
    "hydrogen = Element('Hydrogen', 'H', 1)\n",
    "\n",
    "# Accessing attributes using getter properties\n",
    "print(\"Name:\", hydrogen.na)\n",
    "print(\"Symbol:\", hydrogen.symb)\n",
    "print(\"Number:\", hydrogen.numb)\n"
   ]
  },
  {
   "cell_type": "code",
   "execution_count": null,
   "id": "ffd7f843",
   "metadata": {},
   "outputs": [],
   "source": [
    "class Bear:\n",
    "    def eats(self):\n",
    "        return 'berries'\n",
    "\n",
    "class Rabbit:\n",
    "    def eats(self):\n",
    "        return 'clover'\n",
    "\n",
    "class Octothorpe:\n",
    "    def eats(self):\n",
    "        return 'campers'\n",
    "\n",
    "# Creating objects from each class\n",
    "bear = Bear()\n",
    "rabbit = Rabbit()\n",
    "octothorpe = Octothorpe()\n",
    "\n",
    "# Printing what each animal eats\n",
    "print(\"Bear eats:\", bear.eats())\n",
    "print(\"Rabbit eats:\", rabbit.eats())\n",
    "print(\"Octothorpe eats:\", octothorpe.eats())\n"
   ]
  },
  {
   "cell_type": "code",
   "execution_count": 17,
   "id": "df4d936c",
   "metadata": {},
   "outputs": [
    {
     "name": "stdout",
     "output_type": "stream",
     "text": [
      "Laser does: disintegrate\n",
      "Claw does: crush\n",
      "SmartPhone does: ring\n"
     ]
    }
   ],
   "source": [
    "class Laser:\n",
    "    def does(self):\n",
    "        return 'disintegrate'\n",
    "\n",
    "class Claw:\n",
    "    def does(self):\n",
    "        return 'crush'\n",
    "\n",
    "class SmartPhone:\n",
    "    def does(self):\n",
    "        return 'ring'\n",
    "\n",
    "class Robot:\n",
    "    def __init__(self):\n",
    "        self.laser = Laser()\n",
    "        self.claw = Claw()\n",
    "        self.smartphone = SmartPhone()\n",
    "\n",
    "    def does(self):\n",
    "        laser_action = self.laser.does()\n",
    "        claw_action = self.claw.does()\n",
    "        smartphone_action = self.smartphone.does()\n",
    "        print(f\"Laser does: {laser_action}\")\n",
    "        print(f\"Claw does: {claw_action}\")\n",
    "        print(f\"SmartPhone does: {smartphone_action}\")\n",
    "\n",
    "# Creating a Robot object\n",
    "robot = Robot()\n",
    "\n",
    "# Calling the does() method of the Robot object\n",
    "robot.does()"
   ]
  },
  {
   "cell_type": "code",
   "execution_count": 21,
   "id": "266e1eb6",
   "metadata": {},
   "outputs": [
    {
     "name": "stdout",
     "output_type": "stream",
     "text": [
      "Laser does:  disintigrate\n",
      "Claw does:  crush\n",
      "SmartPhone does:  ring\n"
     ]
    }
   ],
   "source": [
    "class Laser:\n",
    "    def does(self):\n",
    "        return 'disintigrate'\n",
    "\n",
    "class Claw:\n",
    "    def does(self):\n",
    "        return 'crush'\n",
    "\n",
    "class SmartPhone:\n",
    "    def does(self):\n",
    "        return 'ring'\n",
    "    \n",
    "class Robot:\n",
    "    def __init__(self):\n",
    "        self.laser=Laser()\n",
    "        self.claw=Claw()\n",
    "        self.smartphone=SmartPhone()\n",
    "        \n",
    "    def does(self):\n",
    "        print(\"Laser does: \", self.laser.does())\n",
    "        print(\"Claw does: \", self.claw.does())\n",
    "        print(\"SmartPhone does: \", self.smartphone.does())\n",
    "        \n",
    "rbt=Robot()\n",
    "rbt.does()"
   ]
  }
 ],
 "metadata": {
  "kernelspec": {
   "display_name": "Python 3 (ipykernel)",
   "language": "python",
   "name": "python3"
  },
  "language_info": {
   "codemirror_mode": {
    "name": "ipython",
    "version": 3
   },
   "file_extension": ".py",
   "mimetype": "text/x-python",
   "name": "python",
   "nbconvert_exporter": "python",
   "pygments_lexer": "ipython3",
   "version": "3.8.10"
  }
 },
 "nbformat": 4,
 "nbformat_minor": 5
}
