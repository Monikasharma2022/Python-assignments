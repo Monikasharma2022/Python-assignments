{
 "cells": [
  {
   "cell_type": "code",
   "execution_count": null,
   "id": "f2abecd5",
   "metadata": {},
   "outputs": [],
   "source": [
    "# 1. How do you distinguish between shutil.copy() and shutil.copytree()?\n",
    "# 2. What function is used to rename files??\n",
    "# 3. What is the difference between the delete functions in the send2trash and shutil modules?\n",
    "# 4.ZipFile objects have a close() method just like File objects’ close() method. What ZipFile method is\n",
    "# equivalent to File objects’ open() method?\n",
    "# 5. Create a programme that searches a folder tree for files with a certain file extension (such as .pdf\n",
    "# or .jpg). Copy these files from whatever location they are in to a new folder."
   ]
  },
  {
   "cell_type": "code",
   "execution_count": null,
   "id": "34443ae4",
   "metadata": {},
   "outputs": [],
   "source": [
    "# In Python, both shutil.copy() and shutil.copytree() are functions provided by the shutil module for copying files and directories respectively. \n",
    "\n",
    "# shutil.copy(src, dst):\n",
    "# This function is used to copy a single file from the source (src) to the destination (dst).\n",
    "# If dst is a directory, the file will be copied into that directory with the same name.\n",
    "# If dst is a file path, the file will be copied to that location with the specified filename.\n",
    "# Example:\n",
    "# import shutil\n",
    "# shutil.copy('source_file.txt', 'destination_directory/')\n",
    "\n",
    "# shutil.copytree(src, dst):\n",
    "# This function is used to recursively copy an entire directory tree from the source (src) to the destination (dst).\n",
    "# If dst directory does not exist, it will be created.\n",
    "# If dst directory already exists, it must be empty; otherwise, OSError will be raised.\n",
    "# All files and subdirectories within the source directory will be copied to the destination directory.\n",
    "# Example:\n",
    "# import shutil\n",
    "# shutil.copytree('source_directory/', 'destination_directory/')\n",
    "\n",
    "# In summary:\n",
    "# Use shutil.copy() to copy individual files.\n",
    "# Use shutil.copytree() to copy entire directory trees."
   ]
  },
  {
   "cell_type": "code",
   "execution_count": null,
   "id": "9ef8dba1",
   "metadata": {},
   "outputs": [],
   "source": [
    "# In Python, the os.rename() function is used to rename files. It's part of the os module, which provides a wide range\n",
    "# of operating system-related functionality. Here's how you can use os.rename() to rename a file:\n",
    "# import os\n",
    "# # Rename a file\n",
    "# os.rename('old_filename.txt', 'new_filename.txt')\n",
    "# In this example, the file old_filename.txt is renamed to new_filename.txt. The os.rename() function takes two arguments: \n",
    "# the current name of the file and the new name you want to assign to it.\n",
    "\n",
    "# It's important to note that if a file with the new name already exists, it will be overwritten by the renamed file. \n",
    "# Additionally, the os.rename() function raises an OSError if the file does not exist or if there is any other issue \n",
    "# with the renaming operation."
   ]
  },
  {
   "cell_type": "code",
   "execution_count": null,
   "id": "73c8153b",
   "metadata": {},
   "outputs": [],
   "source": [
    "# send2trash.delete():\n",
    "# The send2trash module provides a delete() function that sends files or directories to the system's trash or recycle bin\n",
    "# instead of permanently deleting them.\n",
    "# This function is useful when you want to move files or directories to the trash instead of immediately deleting them, \n",
    "# providing a safety net in case you delete something by mistake.\n",
    "# Example:\n",
    "# import send2trash\n",
    "# send2trash.send2trash('filename.txt')\n",
    "\n",
    "# shutil.rmtree():\n",
    "# The shutil module provides a rmtree() function that recursively deletes a directory tree.\n",
    "# This function permanently deletes the specified directory and all its contents, including subdirectories and files.\n",
    "# Use shutil.rmtree() with caution because it permanently removes data, and there is no way to recover it once deleted.\n",
    "# Example:\n",
    "# import shutil\n",
    "# shutil.rmtree('directory_to_delete')"
   ]
  },
  {
   "cell_type": "code",
   "execution_count": null,
   "id": "039a084d",
   "metadata": {},
   "outputs": [],
   "source": [
    "# The equivalent method to a File object's open() method for a ZipFile object is ZipFile() itself.\n",
    "\n",
    "# When you want to work with a zip file in Python, you use the ZipFile() constructor to open the zip file and\n",
    "# create a ZipFile object. This is analogous to the open() method used to open files for reading or writing.\n",
    "\n",
    "# import zipfile\n",
    "# # Open a zip file for reading\n",
    "# with zipfile.ZipFile('example.zip', 'r') as zip_file:\n",
    "#     # Perform operations on the zip file\n",
    "#     # For example, you can extract files or list contents"
   ]
  },
  {
   "cell_type": "code",
   "execution_count": null,
   "id": "aaf846c4",
   "metadata": {},
   "outputs": [],
   "source": [
    "# import os\n",
    "# import shutil\n",
    "\n",
    "# def search_and_copy_files(source_dir, dest_dir, extension):\n",
    "#     # Create the destination directory if it doesn't exist\n",
    "#     if not os.path.exists(dest_dir):\n",
    "#         os.makedirs(dest_dir)\n",
    "    \n",
    "#     # Traverse the directory tree\n",
    "#     for root, dirs, files in os.walk(source_dir):\n",
    "#         for file in files:\n",
    "#             # Check if the file has the specified extension\n",
    "#             if file.endswith(extension):\n",
    "#                 source_file_path = os.path.join(root, file)\n",
    "#                 # Construct the destination file path\n",
    "#                 dest_file_path = os.path.join(dest_dir, file)\n",
    "#                 # Copy the file to the destination folder\n",
    "#                 shutil.copy(source_file_path, dest_file_path)\n",
    "#                 print(f\"Copied {file} to {dest_dir}\")\n",
    "\n",
    "# # Specify the source directory containing the files\n",
    "# source_directory = '/path/to/source_directory'\n",
    "# # Specify the destination directory where files will be copied\n",
    "# destination_directory = '/path/to/destination_directory'\n",
    "# # Specify the file extension you want to search for\n",
    "# file_extension = '.pdf'  # Change this to the desired file extension\n",
    "\n",
    "# # Call the function to search and copy files\n",
    "# search_and_copy_files(source_directory, destination_directory, file_extension)\n"
   ]
  },
  {
   "cell_type": "code",
   "execution_count": null,
   "id": "9eaf114a",
   "metadata": {},
   "outputs": [],
   "source": []
  }
 ],
 "metadata": {
  "kernelspec": {
   "display_name": "Python 3 (ipykernel)",
   "language": "python",
   "name": "python3"
  },
  "language_info": {
   "codemirror_mode": {
    "name": "ipython",
    "version": 3
   },
   "file_extension": ".py",
   "mimetype": "text/x-python",
   "name": "python",
   "nbconvert_exporter": "python",
   "pygments_lexer": "ipython3",
   "version": "3.8.10"
  }
 },
 "nbformat": 4,
 "nbformat_minor": 5
}
