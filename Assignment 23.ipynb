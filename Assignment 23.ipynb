{
 "cells": [
  {
   "cell_type": "code",
   "execution_count": 1,
   "id": "097a2c4c",
   "metadata": {},
   "outputs": [
    {
     "name": "stdout",
     "output_type": "stream",
     "text": [
      "1 2 8\n"
     ]
    }
   ],
   "source": [
    "def func(a, b=6, c=8):\n",
    "    print(a, b, c)\n",
    "\n",
    "func(1, 2)"
   ]
  },
  {
   "cell_type": "code",
   "execution_count": null,
   "id": "d5db4940",
   "metadata": {},
   "outputs": [],
   "source": [
    "# This is because the function func() is defined with three parameters: a, b, and c, with default values for b and c\n",
    "# set to 6 and 8, respectively.\n",
    "\n",
    "# When you call func(1, 2), you are passing 1 as the value for a and 2 as the value for b, \n",
    "# leaving c with its default value of 8. Hence, when the function is executed, it prints 1 2 8."
   ]
  },
  {
   "cell_type": "code",
   "execution_count": 2,
   "id": "d5c6a2c1",
   "metadata": {},
   "outputs": [
    {
     "name": "stdout",
     "output_type": "stream",
     "text": [
      "1 2 3\n"
     ]
    }
   ],
   "source": [
    "def func(a, b, c=5):\n",
    "    print(a, b, c)\n",
    "\n",
    "func(1, c=3, b=2)"
   ]
  },
  {
   "cell_type": "code",
   "execution_count": null,
   "id": "7d6a6ebb",
   "metadata": {},
   "outputs": [],
   "source": [
    "# This is because when you call the function func(1, c=3, b=2), you are passing 1 as the value for a, 2 as the value for b,\n",
    "# and 3 as the value for c. Even though the parameters b and c are provided out of order compared to the function definition,\n",
    "# their names are explicitly specified, so Python correctly assigns the values to the corresponding parameters. \n",
    "# Hence, when the function is executed, it prints 1 2 3."
   ]
  },
  {
   "cell_type": "code",
   "execution_count": 3,
   "id": "3bb1c8ac",
   "metadata": {},
   "outputs": [
    {
     "name": "stdout",
     "output_type": "stream",
     "text": [
      "1 (2, 3)\n"
     ]
    }
   ],
   "source": [
    "def func(a, *pargs):\n",
    "    print(a, pargs)\n",
    "\n",
    "func(1, 2, 3)"
   ]
  },
  {
   "cell_type": "code",
   "execution_count": null,
   "id": "ff1abb0d",
   "metadata": {},
   "outputs": [],
   "source": [
    "# The function func() is defined with a parameter a and a variable-length argument parameter pargs, denoted by *pargs. \n",
    "# This *pargs parameter collects any extra positional arguments passed to the function into a tuple.\n",
    "\n",
    "# When you call func(1, 2, 3), 1 is passed as the value for a, and 2 and 3 are passed as additional positional arguments. \n",
    "# These extra arguments are collected into a tuple named pargs. Hence, when the function is executed, it prints 1 (2, 3)."
   ]
  },
  {
   "cell_type": "code",
   "execution_count": 5,
   "id": "54369087",
   "metadata": {},
   "outputs": [
    {
     "name": "stdout",
     "output_type": "stream",
     "text": [
      "1 {'c': 3, 'b': 2}\n"
     ]
    }
   ],
   "source": [
    "def func(a, **kargs):\n",
    "    print(a, kargs)\n",
    "\n",
    "func(a=1, c=3, b=2)"
   ]
  },
  {
   "cell_type": "code",
   "execution_count": null,
   "id": "ceaecee0",
   "metadata": {},
   "outputs": [],
   "source": [
    "# The function func() is defined with a parameter a and a variable-length keyword argument parameter kargs, denoted by **kargs.\n",
    "# This **kargs parameter collects any extra keyword arguments passed to the function into a dictionary.\n",
    "\n",
    "# When you call func(a=1, c=3, b=2), a is explicitly passed as 1, while b and c are passed as keyword arguments. \n",
    "# These keyword arguments are collected into a dictionary named kargs. Hence, when the function is executed, \n",
    "# it prints 1 {'c': 3, 'b': 2}."
   ]
  },
  {
   "cell_type": "code",
   "execution_count": 6,
   "id": "db312397",
   "metadata": {},
   "outputs": [
    {
     "name": "stdout",
     "output_type": "stream",
     "text": [
      "1 5 6 5\n"
     ]
    }
   ],
   "source": [
    "def func(a, b, c=8, d=5):\n",
    "    print(a, b, c, d)\n",
    "\n",
    "func(1, *(5, 6))"
   ]
  },
  {
   "cell_type": "code",
   "execution_count": null,
   "id": "8683f78b",
   "metadata": {},
   "outputs": [],
   "source": [
    "# The function func() is defined with four parameters: a, b, c, and d, with default values for c and d set to 8 and 5, respectively.\n",
    "\n",
    "# When you call func(1, *(5, 6)), you are passing 1 as the value for a, and (5, 6) as additional positional arguments. \n",
    "# The * operator unpacks the tuple (5, 6), resulting in 5 being assigned to b, and 6 being assigned to c. \n",
    "# Since no value is provided for d, it takes its default value of 5."
   ]
  },
  {
   "cell_type": "code",
   "execution_count": 7,
   "id": "f93ca903",
   "metadata": {},
   "outputs": [
    {
     "name": "stdout",
     "output_type": "stream",
     "text": [
      "1 ['x'] {'a': 'y'}\n"
     ]
    }
   ],
   "source": [
    "def func(a, b, c):\n",
    "    a = 2\n",
    "    b[0] = 'x'\n",
    "    c['a'] = 'y'\n",
    "\n",
    "l = 1\n",
    "m = [1]\n",
    "n = {'a': 0}\n",
    "\n",
    "func(l, m, n)\n",
    "print(l, m, n)"
   ]
  },
  {
   "cell_type": "code",
   "execution_count": null,
   "id": "400329f7",
   "metadata": {},
   "outputs": [],
   "source": [
    "# l, m, and n are defined as follows:\n",
    "\n",
    "# l is an integer with a value of 1.\n",
    "# m is a list containing a single integer 1.\n",
    "# n is a dictionary containing one key-value pair, where the key 'a' maps to the value 0.\n",
    "# When you call the function func(l, m, n), l, m, and n are passed as arguments to the function:\n",
    "\n",
    "# l is passed by value, so any changes made to it within the function don't affect its value outside the function.\n",
    "# m is passed by reference, so changes made to its contents within the function are reflected outside the function.\n",
    "# n is also passed by reference, so changes made to it within the function are reflected outside the function.\n",
    "# Inside the function func, the following operations are performed:\n",
    "\n",
    "# a is assigned the value 2, but since a is a local variable within the function, it doesn't affect the variable l\n",
    "# outside the function.\n",
    "# The first element of list b (which is m) is changed to 'x', modifying the list in place.\n",
    "# The value corresponding to key 'a' in dictionary c (which is n) is changed to 'y', modifying the dictionary in place.\n",
    "# After the function call, the values of l, m, and n are printed. Since l is a simple variable and hasn't been changed\n",
    "# within the function, it remains 1. However, m and n have been modified within the function, so their updated values are \n",
    "# reflected when printed."
   ]
  }
 ],
 "metadata": {
  "kernelspec": {
   "display_name": "Python 3 (ipykernel)",
   "language": "python",
   "name": "python3"
  },
  "language_info": {
   "codemirror_mode": {
    "name": "ipython",
    "version": 3
   },
   "file_extension": ".py",
   "mimetype": "text/x-python",
   "name": "python",
   "nbconvert_exporter": "python",
   "pygments_lexer": "ipython3",
   "version": "3.8.10"
  }
 },
 "nbformat": 4,
 "nbformat_minor": 5
}
