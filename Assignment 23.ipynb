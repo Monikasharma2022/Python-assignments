{
 "cells": [
  {
   "cell_type": "code",
   "execution_count": null,
   "id": "84d52e1e",
   "metadata": {},
   "outputs": [],
   "source": [
    "# 1. What is the result of the code, and explain?\n",
    "\n",
    "# &gt;&gt;&gt; X = &#39;iNeuron&#39;\n",
    "# &gt;&gt;&gt; def func():\n",
    "# print(X)\n",
    "\n",
    "# &gt;&gt;&gt; func()\n",
    "\n",
    "# 2. What is the result of the code, and explain?\n",
    "\n",
    "# &gt;&gt;&gt; X = &#39;iNeuron&#39;\n",
    "# &gt;&gt;&gt; def func():\n",
    "# X = &#39;NI!&#39;\n",
    "\n",
    "# &gt;&gt;&gt; func()\n",
    "# &gt;&gt;&gt; print(X)\n",
    "\n",
    "# 3. What does this code print, and why?\n",
    "\n",
    "# &gt;&gt;&gt; X = &#39;iNeuron&#39;\n",
    "# &gt;&gt;&gt; def func():\n",
    "# X = &#39;NI&#39;\n",
    "# print(X)\n",
    "\n",
    "# &gt;&gt;&gt; func()\n",
    "# &gt;&gt;&gt; print(X)\n",
    "\n",
    "# 4. What output does this code produce? Why?\n",
    "\n",
    "# &gt;&gt;&gt; X = &#39;iNeuron&#39;\n",
    "# &gt;&gt;&gt; def func():\n",
    "# global X\n",
    "# X = &#39;NI&#39;\n",
    "\n",
    "# &gt;&gt;&gt; func()\n",
    "# &gt;&gt;&gt; print(X)\n",
    "\n",
    "# 5. What about this code—what’s the output, and why?\n",
    "\n",
    "# &gt;&gt;&gt; X = &#39;iNeuron&#39;\n",
    "# &gt;&gt;&gt; def func():\n",
    "# X = &#39;NI&#39;\n",
    "# def nested():\n",
    "# print(X)\n",
    "# nested()\n",
    "\n",
    "# &gt;&gt;&gt; func()\n",
    "# &gt;&gt;&gt; X\n",
    "\n",
    "# 6. How about this code: what is its output in Python 3, and explain?\n",
    "\n",
    "# &gt;&gt;&gt; def func():\n",
    "# X = &#39;NI&#39;\n",
    "# def nested():\n",
    "# nonlocal X\n",
    "# X = &#39;Spam&#39;\n",
    "# nested()\n",
    "# print(X)\n",
    "\n",
    "# &gt;&gt;&gt; func()"
   ]
  },
  {
   "cell_type": "code",
   "execution_count": null,
   "id": "41ab555e",
   "metadata": {},
   "outputs": [],
   "source": [
    "# The result of the code will be:\n",
    "# iNeuron\n",
    "\n",
    "# Explanation:\n",
    "# A variable X is defined and assigned the string value 'iNeuron'.\n",
    "# A function func() is defined, which when called, prints the value of X.\n",
    "# func() is called.\n",
    "# Since X is defined outside the function and not passed as an argument, the function accesses the global variable X.\n",
    "# Therefore, when func() is called, it prints the value of X, which is 'iNeuron'."
   ]
  },
  {
   "cell_type": "code",
   "execution_count": null,
   "id": "ad6746cb",
   "metadata": {},
   "outputs": [],
   "source": [
    "# iNeuron\n",
    "\n",
    "# Explanation:\n",
    "# A variable X is defined and assigned the string value 'iNeuron'.\n",
    "# A function func() is defined, which has its own local variable X assigned the string value 'NI!'.\n",
    "# When func() is called, it modifies its local variable X to 'NI!', but this does not affect the global variable X.\n",
    "# After func() is called, print(X) outside the function prints the global variable X, which remains unchanged, so it still prints 'iNeuron'"
   ]
  },
  {
   "cell_type": "code",
   "execution_count": null,
   "id": "7da3b53e",
   "metadata": {},
   "outputs": [],
   "source": [
    "# NI\n",
    "# iNeuron\n",
    "\n",
    "# Explanation:\n",
    "# A global variable X is defined and assigned the string value 'iNeuron'.\n",
    "# A function func() is defined, which has its own local variable X assigned the string value 'NI'.\n",
    "# When func() is called, it prints its local variable X, which is 'NI'.\n",
    "# After func() is called, print(X) outside the function prints the global variable X, which remains unchanged, so it still prints 'iNeuron'."
   ]
  },
  {
   "cell_type": "code",
   "execution_count": null,
   "id": "e3da9dbc",
   "metadata": {},
   "outputs": [],
   "source": [
    "# In this code, global X within the function func() indicates that the variable X being referred to inside the function\n",
    "# is the global variable X. Therefore, when the function func() is called and it assigns the string 'NI' to X,\n",
    "# it modifies the global variable X. Thus, after calling the function func(), printing X will display the updated value of X,\n",
    "# which is 'NI'.\n",
    "\n",
    "# So, the code will print:\n",
    "# NI"
   ]
  },
  {
   "cell_type": "code",
   "execution_count": 5,
   "id": "c5e2a72d",
   "metadata": {},
   "outputs": [
    {
     "name": "stdout",
     "output_type": "stream",
     "text": [
      "NI\n",
      "iNeuron\n"
     ]
    }
   ],
   "source": [
    "X = 'iNeuron'\n",
    "\n",
    "def func():\n",
    "    X = 'NI'\n",
    "    \n",
    "    def nested():\n",
    "        print(X)\n",
    "        \n",
    "    nested()\n",
    "\n",
    "func()\n",
    "print(X)"
   ]
  },
  {
   "cell_type": "code",
   "execution_count": null,
   "id": "6dd9d522",
   "metadata": {},
   "outputs": [],
   "source": [
    "# Explanation:\n",
    "# A global variable X is defined and assigned the string value 'iNeuron'.\n",
    "# A function func() is defined, which has its own local variable X assigned the string value 'NI'.\n",
    "# Inside func(), another nested function nested() is defined, which prints the value of X when called.\n",
    "# When func() is called, it doesn't directly print anything. Instead, it defines a function nested() and calls it.\n",
    "# When nested() is called, it prints the value of X, which is the local variable X of the func() function, so it prints 'NI'.\n",
    "# After calling func(), printing X outside the function will still return the global variable X, which remains unchanged, so it still prints 'iNeuron'."
   ]
  },
  {
   "cell_type": "code",
   "execution_count": 6,
   "id": "f0f0d5d5",
   "metadata": {},
   "outputs": [
    {
     "name": "stdout",
     "output_type": "stream",
     "text": [
      "Spam\n"
     ]
    }
   ],
   "source": [
    "def func():\n",
    "    X = 'NI'\n",
    "    def nested():\n",
    "        nonlocal X\n",
    "        X = 'Spam'\n",
    "    nested()\n",
    "    print(X)\n",
    "\n",
    "func()"
   ]
  },
  {
   "cell_type": "code",
   "execution_count": null,
   "id": "84ecc778",
   "metadata": {},
   "outputs": [],
   "source": [
    "# Explanation:\n",
    "# The func() function defines a local variable X with the value 'NI'.\n",
    "# Inside func(), the nested() function is defined.\n",
    "# Within nested(), the nonlocal X statement is used to indicate that X refers to the variable defined in the outer scope (i.e., the X variable in func()).\n",
    "# The value of X is then changed to 'Spam' within nested().\n",
    "# After calling nested(), print(X) within func() prints the updated value of X, which is 'Spam'."
   ]
  }
 ],
 "metadata": {
  "kernelspec": {
   "display_name": "Python 3 (ipykernel)",
   "language": "python",
   "name": "python3"
  },
  "language_info": {
   "codemirror_mode": {
    "name": "ipython",
    "version": 3
   },
   "file_extension": ".py",
   "mimetype": "text/x-python",
   "name": "python",
   "nbconvert_exporter": "python",
   "pygments_lexer": "ipython3",
   "version": "3.8.10"
  }
 },
 "nbformat": 4,
 "nbformat_minor": 5
}
