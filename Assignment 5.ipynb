{
 "cells": [
  {
   "cell_type": "code",
   "execution_count": null,
   "id": "37ca07d8",
   "metadata": {},
   "outputs": [],
   "source": [
    "# 1. What does an empty dictionary&#39;s code look like?\n",
    "# 2. What is the value of a dictionary value with the key &#39;foo&#39; and the value 42?\n",
    "# 3. What is the most significant distinction between a dictionary and a list?\n",
    "# 4. What happens if you try to access spam[&#39;foo&#39;] if spam is {&#39;bar&#39;: 100}?\n",
    "# 5. If a dictionary is stored in spam, what is the difference between the expressions &#39;cat&#39; in spam and\n",
    "# &#39;cat&#39; in spam.keys()?\n",
    "# 6. If a dictionary is stored in spam, what is the difference between the expressions &#39;cat&#39; in spam and\n",
    "# &#39;cat&#39; in spam.values()?\n",
    "# 7. What is a shortcut for the following code?\n",
    "# if &#39;color&#39; not in spam:\n",
    "# spam[&#39;color&#39;] = &#39;black&#39;\n",
    "# 8. How do you &quot;pretty print&quot; dictionary values using which module and function?"
   ]
  },
  {
   "cell_type": "code",
   "execution_count": null,
   "id": "7bc6bc9e",
   "metadata": {},
   "outputs": [],
   "source": [
    "# An empty dictionary in Python is denoted by curly braces {}. Here's how it looks:\n",
    "# empty_dict = {}"
   ]
  },
  {
   "cell_type": "code",
   "execution_count": null,
   "id": "09c93383",
   "metadata": {},
   "outputs": [],
   "source": [
    "# The value of a dictionary value with the key 'foo' and the value 42 would be 42. \n",
    "# In Python, dictionary values are accessed using their corresponding keys. \n",
    "# Here's an example of how you would access the value associated with the key 'foo':\n",
    "# my_dict = {'foo': 42}\n",
    "# value = my_dict['foo']"
   ]
  },
  {
   "cell_type": "code",
   "execution_count": null,
   "id": "c87c8a06",
   "metadata": {},
   "outputs": [],
   "source": [
    "# Organization and Access:\n",
    "# Dictionary: Organizes data into key-value pairs, where each value is associated with a unique key. \n",
    "# Keys can be of any immutable data type (e.g., strings, numbers, tuples), and they provide a way to\n",
    "# access the corresponding value directly without needing to know its position within the dictionary. \n",
    "# Dictionary lookup is fast and efficient even for large collections of data.\n",
    "\n",
    "# List: Organizes data as an ordered collection of elements, where each element has a specific position or index.\n",
    "# Elements are accessed by their index position within the list. Lists are ordered and allow for sequential access to elements, \n",
    "# but the time complexity of accessing elements by index is O(1), making it less efficient than dictionary lookup \n",
    "# for large collections."
   ]
  },
  {
   "cell_type": "code",
   "execution_count": null,
   "id": "e59eb518",
   "metadata": {},
   "outputs": [],
   "source": [
    "# If you try to access spam['foo'] and spam is { 'bar': 100 }, \n",
    "# you will get a KeyError because the key 'foo' does not exist in the dictionary spam.\n",
    "\n",
    "# spam = {'bar': 100}\n",
    "# value = spam['foo']\n",
    "# When Python attempts to retrieve the value associated with the key 'foo' from the dictionary spam, \n",
    "# it cannot find such a key in the dictionary.\n",
    "# Therefore, it raises a KeyError indicating that the key 'foo' is not present in the dictionary."
   ]
  },
  {
   "cell_type": "code",
   "execution_count": null,
   "id": "1fa80de5",
   "metadata": {},
   "outputs": [],
   "source": [
    "# The expressions 'cat' in spam and 'cat' in spam.keys() both check whether the key 'cat' is present in the dictionary spam. \n",
    "# However, they differ slightly in their implementation:\n",
    "\n",
    "# 'cat' in spam:\n",
    "# This expression checks if the key 'cat' exists directly within the dictionary spam.\n",
    "# If 'cat' is a key in the dictionary spam, this expression evaluates to True; otherwise, it evaluates to False.\n",
    "# This method is generally more efficient because it directly checks the keys of the dictionary without creating an additional list of keys.\n",
    "\n",
    "# 'cat' in spam.keys():\n",
    "# This expression checks if the key 'cat' exists within the list of keys returned by the keys() method of the dictionary spam.\n",
    "# The keys() method returns a view object containing the keys of the dictionary.\n",
    "# If 'cat' is in the list of keys returned by spam.keys(), this expression evaluates to True; otherwise, it evaluates to False.\n",
    "# While functionally equivalent to the first expression, this method involves creating an additional list of keys, \n",
    "# which can be less efficient, especially for large dictionaries."
   ]
  },
  {
   "cell_type": "code",
   "execution_count": null,
   "id": "c3e569a7",
   "metadata": {},
   "outputs": [],
   "source": [
    "# The expressions 'cat' in spam and 'cat' in spam.values() both involve checking whether the value 'cat' is present in the dictionary spam,\n",
    "# but they differ in what they are checking:\n",
    "\n",
    "# 'cat' in spam:\n",
    "# This expression checks if the key 'cat' exists directly within the keys of the dictionary spam.\n",
    "# If 'cat' is a key in the dictionary spam, this expression evaluates to True; otherwise, it evaluates to False.\n",
    "# This method checks for the presence of the specified value as a key, not as a value.\n",
    "\n",
    "# 'cat' in spam.values():\n",
    "# This expression checks if the value 'cat' exists within the values of the dictionary spam.\n",
    "# If 'cat' is a value in the dictionary spam, this expression evaluates to True; otherwise, it evaluates to False.\n",
    "# This method checks for the presence of the specified value among the values of the dictionary."
   ]
  },
  {
   "cell_type": "code",
   "execution_count": null,
   "id": "c47cce9f",
   "metadata": {},
   "outputs": [],
   "source": [
    "# A shortcut for the given code is to use the dict.setdefault() method. \n",
    "# This method checks if a key exists in the dictionary and sets a default value if the key does not exist.\n",
    "\n",
    "# Here's how you can use it:\n",
    "# spam.setdefault('color', 'black')\n",
    "\n",
    "# This line of code will set the value of 'color' to 'black' in the dictionary spam only if 'color' is not already present in spam. \n",
    "# If 'color' is already present, it will not modify the existing value. \n",
    "# This provides a concise way to achieve the same result as the original if statement."
   ]
  },
  {
   "cell_type": "code",
   "execution_count": null,
   "id": "42b4eb95",
   "metadata": {},
   "outputs": [],
   "source": [
    "# To \"pretty print\" dictionary values, you can use the pprint module and its pprint() function.\n",
    "\n",
    "# Here's how you can do it:\n",
    "# import pprint\n",
    "# my_dict = {'name': 'John', 'age': 30, 'city': 'New York'}\n",
    "# pprint.pprint(my_dict)\n",
    "\n",
    "# This will print the dictionary my_dict in a more human-readable format, with each key-value pair on its own line and properly indented.\n",
    "# The pprint() function from the pprint module is designed for \"pretty printing\" complex data structures, such as dictionaries, lists,\n",
    "# and nested structures. It makes the output more readable, especially for large or nested data structures."
   ]
  }
 ],
 "metadata": {
  "kernelspec": {
   "display_name": "Python 3 (ipykernel)",
   "language": "python",
   "name": "python3"
  },
  "language_info": {
   "codemirror_mode": {
    "name": "ipython",
    "version": 3
   },
   "file_extension": ".py",
   "mimetype": "text/x-python",
   "name": "python",
   "nbconvert_exporter": "python",
   "pygments_lexer": "ipython3",
   "version": "3.8.10"
  }
 },
 "nbformat": 4,
 "nbformat_minor": 5
}
