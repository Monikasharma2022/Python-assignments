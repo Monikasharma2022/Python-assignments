{
 "cells": [
  {
   "cell_type": "code",
   "execution_count": null,
   "id": "a170707c",
   "metadata": {},
   "outputs": [],
   "source": [
    "# 1. In what modes should the PdfFileReader() and PdfFileWriter() File objects will be opened?\n",
    "# 2. From a PdfFileReader object, how do you get a Page object for page 5?\n",
    "# 3. What PdfFileReader variable stores the number of pages in the PDF document?\n",
    "# 4. If a PdfFileReader object’s PDF is encrypted with the password swordfish, what must you do\n",
    "# before you can obtain Page objects from it?\n",
    "# 5. What methods do you use to rotate a page?\n",
    "# 6. What is the difference between a Run object and a Paragraph object?\n",
    "# 7. How do you obtain a list of Paragraph objects for a Document object that’s stored in a variable\n",
    "# named doc?\n",
    "# 8. What type of object has bold, underline, italic, strike, and outline variables?\n",
    "# 9. What is the difference between False, True, and None for the bold variable?\n",
    "# 10. How do you create a Document object for a new Word document?\n",
    "# 11. How do you add a paragraph with the text &#39;Hello, there!&#39; to a Document object stored in a\n",
    "# variable named doc?\n",
    "# 12. What integers represent the levels of headings available in Word documents?"
   ]
  },
  {
   "cell_type": "code",
   "execution_count": null,
   "id": "5ffc4341",
   "metadata": {},
   "outputs": [],
   "source": [
    "# When using the PdfFileReader() and PdfFileWriter() classes from the PyPDF2 library in Python, you typically do not need to\n",
    "# open the PDF files manually using file modes as you would with built-in file operations (open() function). \n",
    "# Instead, you pass file objects that have already been opened in binary mode ('rb' for reading and 'wb' for writing) to\n",
    "# these classes.\n",
    "\n",
    "# PdfFileReader:\n",
    "# You create a PdfFileReader object by passing an open file object (opened in binary mode) representing the PDF you want to read.\n",
    "# Example:\n",
    "# import PyPDF2\n",
    "# with open('example.pdf', 'rb') as pdf_file:\n",
    "#     pdf_reader = PyPDF2.PdfFileReader(pdf_file)\n",
    "#     # Now you can use pdf_reader object to read and extract information from the PDF file\n",
    "\n",
    "# PdfFileWriter:\n",
    "# Similarly, you create a PdfFileWriter object by passing an open file object (opened in binary mode) representing the PDF\n",
    "# you want to write.\n",
    "# Example:\n",
    "# import PyPDF2\n",
    "# with open('output.pdf', 'wb') as pdf_output:\n",
    "#     pdf_writer = PyPDF2.PdfFileWriter()\n",
    "#     # Now you can use pdf_writer object to write content to the PDF file"
   ]
  },
  {
   "cell_type": "code",
   "execution_count": null,
   "id": "5db9d212",
   "metadata": {},
   "outputs": [],
   "source": [
    "# import PyPDF2\n",
    "# with open('example.pdf', 'rb') as pdf_file:\n",
    "#     pdf_reader = PyPDF2.PdfFileReader(pdf_file)\n",
    "#     page_five = pdf_reader.getPage(4)  # Page numbering starts from 0, so page 5 is at index 4\n",
    "# In this example, pdf_reader.getPage(4) returns the Page object corresponding to page 5 of the PDF \n",
    "# (assuming page indexing starts from 0). You can then use page_five to perform various operations on that page,\n",
    "# such as extracting text or modifying it."
   ]
  },
  {
   "cell_type": "code",
   "execution_count": null,
   "id": "ae3ab5b2",
   "metadata": {},
   "outputs": [],
   "source": [
    "# import PyPDF2\n",
    "# with open('example.pdf', 'rb') as pdf_file:\n",
    "#     pdf_reader = PyPDF2.PdfFileReader(pdf_file)\n",
    "#     num_pages = pdf_reader.numPages\n",
    "#     print(\"Number of pages in the PDF:\", num_pages)\n",
    "# In this example, pdf_reader.numPages gives you the total number of pages in the PDF document opened by the PdfFileReader\n",
    "# object pdf_reader."
   ]
  },
  {
   "cell_type": "code",
   "execution_count": null,
   "id": "9d11b3de",
   "metadata": {},
   "outputs": [],
   "source": [
    "# import PyPDF2\n",
    "# with open('encrypted_document.pdf', 'rb') as pdf_file:\n",
    "#     pdf_reader = PyPDF2.PdfFileReader(pdf_file)\n",
    "    \n",
    "#     # Check if the PDF is encrypted\n",
    "#     if pdf_reader.isEncrypted:\n",
    "#         # Attempt to decrypt the PDF with the password 'swordfish'\n",
    "#         if pdf_reader.decrypt('swordfish') == 1:\n",
    "#             # If decryption is successful, you can access Page objects\n",
    "#             num_pages = pdf_reader.numPages\n",
    "#             print(\"Number of pages in the PDF:\", num_pages)\n",
    "#         else:\n",
    "#             # If decryption fails, handle the error appropriately\n",
    "#             print(\"Failed to decrypt the PDF with the provided password.\")\n",
    "#     else:\n",
    "#         # If the PDF is not encrypted, you can access Page objects directly\n",
    "#         num_pages = pdf_reader.numPages\n",
    "#         print(\"Number of pages in the PDF:\", num_pages)\n",
    "# In this example, we first check if the PDF is encrypted using the isEncrypted property of the PdfFileReader object. \n",
    "# If it is encrypted, we attempt to decrypt it using the decrypt() method with the password \"swordfish.\" \n",
    "# If decryption is successful (returns 1), we can then access Page objects as usual. If decryption fails, we handle the\n",
    "# error accordingly. If the PDF is not encrypted, we can access Page objects directly without decryption."
   ]
  },
  {
   "cell_type": "code",
   "execution_count": null,
   "id": "b3f0c638",
   "metadata": {},
   "outputs": [],
   "source": [
    "# import PyPDF2\n",
    "# # Open the PDF file\n",
    "# with open('example.pdf', 'rb') as pdf_file:\n",
    "#     pdf_reader = PyPDF2.PdfFileReader(pdf_file)\n",
    "    \n",
    "#     # Get the page you want to rotate (e.g., page 5)\n",
    "#     page_number = 4  # Page numbering starts from 0\n",
    "#     page = pdf_reader.getPage(page_number)\n",
    "    \n",
    "#     # Rotate the page clockwise by 90 degrees\n",
    "#     page.rotateClockwise(90)  # Specify the angle in degrees\n",
    "    \n",
    "#     # Create a PdfFileWriter object\n",
    "#     pdf_writer = PyPDF2.PdfFileWriter()\n",
    "    \n",
    "#     # Add the rotated page to the PdfFileWriter object\n",
    "#     pdf_writer.addPage(page)\n",
    "    \n",
    "#     # Write the modified PDF to a new file\n",
    "#     with open('rotated_page.pdf', 'wb') as output_file:\n",
    "#         pdf_writer.write(output_file)\n",
    "\n",
    "# We open the PDF file and create a PdfFileReader object.\n",
    "# We get the page we want to rotate (e.g., page 5) using the getPage() method.\n",
    "# We rotate the page clockwise by 90 degrees using the rotateClockwise() method.\n",
    "# We create a PdfFileWriter object to write the modified PDF.\n",
    "# We add the rotated page to the PdfFileWriter object.\n",
    "# Finally, we write the modified PDF to a new file."
   ]
  },
  {
   "cell_type": "code",
   "execution_count": null,
   "id": "bab11d04",
   "metadata": {},
   "outputs": [],
   "source": [
    "# Paragraph Object:\n",
    "# A Paragraph object represents a single paragraph in a Word document.\n",
    "# It can contain multiple runs of text and may include formatting such as font size, style, alignment, indentation, etc.\n",
    "# Paragraphs are typically used to group text that should be treated as a single unit, such as a heading, \n",
    "# a body of text, or a bullet point.\n",
    "\n",
    "# Run Object:\n",
    "# A Run object represents a contiguous run of text within a paragraph that all share the same formatting.\n",
    "# It can include text with different formatting properties such as font style, color, bold, italic, underline, etc.\n",
    "# Runs are used to apply specific formatting to portions of text within a paragraph. For example, you might have a \n",
    "# single paragraph with some text in bold, some italicized, and some underlined - each of these formatted sections\n",
    "# would be represented by a separate run within the paragraph."
   ]
  },
  {
   "cell_type": "code",
   "execution_count": null,
   "id": "a6263dc9",
   "metadata": {},
   "outputs": [],
   "source": [
    "# from docx import Document\n",
    "# # Assuming 'doc' is the Document object\n",
    "# # Open the document\n",
    "# doc = Document('your_document.docx')\n",
    "\n",
    "# # Access the list of Paragraph objects\n",
    "# paragraphs = doc.paragraphs\n",
    "\n",
    "# # Now 'paragraphs' is a list of Paragraph objects representing each paragraph in the document\n",
    "# In this code:\n",
    "\n",
    "# We use the Document() function to open the Word document and create a Document object.\n",
    "# We access the paragraphs attribute of the Document object to obtain a list of Paragraph objects.\n",
    "# The variable paragraphs now contains a list of Paragraph objects, each representing a paragraph in the document."
   ]
  },
  {
   "cell_type": "code",
   "execution_count": null,
   "id": "90605ae1",
   "metadata": {},
   "outputs": [],
   "source": [
    "# The Run object in the Python-docx library has attributes such as bold, underline, italic, strike,\n",
    "# and outline that allow you to apply formatting to text within a paragraph."
   ]
  },
  {
   "cell_type": "code",
   "execution_count": null,
   "id": "6c773c0f",
   "metadata": {},
   "outputs": [],
   "source": [
    "# False: Setting bold to False explicitly turns off bold formatting for the text represented by the Run object. \n",
    "# This means the text will not be displayed in bold.\n",
    "# Example: run.bold = False\n",
    "\n",
    "# True: Setting bold to True explicitly enables bold formatting for the text represented by the Run object. This means the text will be displayed in bold.\n",
    "# Example: run.bold = True\n",
    "\n",
    "# None: When bold is set to None, it means that the bold formatting is not explicitly specified for the text represented by the Run object. \n",
    "# In this case, the formatting will depend on the default style defined for the paragraph or the document.\n",
    "\n",
    "# If the default style specifies bold formatting for the text, it will be displayed in bold. If not, the text will not be bold.\n",
    "# Example: run.bold = None or simply omitting run.bold assignment."
   ]
  },
  {
   "cell_type": "code",
   "execution_count": null,
   "id": "f5d7fd55",
   "metadata": {},
   "outputs": [],
   "source": [
    "# from docx import Document\n",
    "# # Create a new document\n",
    "# doc = Document()\n",
    "# # Now 'doc' is a Document object representing a new, empty Word document\n",
    "\n",
    "# We import the Document class from the Python-docx library.\n",
    "# We create a new Document object by calling the Document() function without any arguments.\n",
    "# The variable doc now contains a Document object representing a new, empty Word document, which you can populate with content,\n",
    "# paragraphs, tables, and more using the methods provided by the Python-docx library"
   ]
  },
  {
   "cell_type": "code",
   "execution_count": null,
   "id": "3854952d",
   "metadata": {},
   "outputs": [],
   "source": [
    "# from docx import Document\n",
    "# # Create a new Document object\n",
    "# doc = Document()\n",
    "# # Add a paragraph with the text 'Hello, there!'\n",
    "# doc.add_paragraph('Hello, there!')\n",
    "# # Now the 'doc' variable contains a Document object with the added paragraph\n",
    "\n",
    "# We import the Document class from the Python-docx library.\n",
    "# We create a new Document object by calling the Document() function.\n",
    "# We use the add_paragraph() method to add a new paragraph with the text 'Hello, there!' to the Document object stored in the variable doc.\n",
    "# After executing this code, the doc variable contains a Document object with the added paragraph."
   ]
  },
  {
   "cell_type": "code",
   "execution_count": null,
   "id": "b7315b08",
   "metadata": {},
   "outputs": [],
   "source": [
    "# In Word documents, the levels of headings are represented by integer values. These integer values indicate the hierarchical structure of the headings, with lower integers representing higher-level headings and higher integers representing lower-level headings. The typical range of integer values used for representing heading levels in Word documents is 1 to 9, where:\n",
    "\n",
    "# Heading 1 is typically represented by the integer 1.\n",
    "# Heading 2 is typically represented by the integer 2.\n",
    "# Heading 3 is typically represented by the integer 3.\n",
    "# And so on, up to Heading 9, which is represented by the integer 9."
   ]
  }
 ],
 "metadata": {
  "kernelspec": {
   "display_name": "Python 3 (ipykernel)",
   "language": "python",
   "name": "python3"
  },
  "language_info": {
   "codemirror_mode": {
    "name": "ipython",
    "version": 3
   },
   "file_extension": ".py",
   "mimetype": "text/x-python",
   "name": "python",
   "nbconvert_exporter": "python",
   "pygments_lexer": "ipython3",
   "version": "3.8.10"
  }
 },
 "nbformat": 4,
 "nbformat_minor": 5
}
