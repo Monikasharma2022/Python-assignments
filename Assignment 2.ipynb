{
 "cells": [
  {
   "cell_type": "code",
   "execution_count": null,
   "id": "2ea71e9b",
   "metadata": {},
   "outputs": [],
   "source": [
    "# 1.What are the two values of the Boolean data type? How do you write them?\n",
    "# 2. What are the three different types of Boolean operators?\n",
    "# 3. Make a list of each Boolean operator&#39;s truth tables (i.e. every possible combination of Boolean\n",
    "# values for the operator and what it evaluate ).\n",
    "# 4. What are the values of the following expressions?\n",
    "# (5 &gt; 4) and (3 == 5)\n",
    "# not (5 &gt; 4)\n",
    "# (5 &gt; 4) or (3 == 5)\n",
    "# not ((5 &gt; 4) or (3 == 5))\n",
    "# (True and True) and (True == False)\n",
    "# (not False) or (not True)\n",
    "# 5. What are the six comparison operators?\n",
    "# 6. How do you tell the difference between the equal to and assignment operators?Describe a\n",
    "# condition and when you would use one.\n",
    "# 7. Identify the three blocks in this code:\n",
    "# spam = 0\n",
    "# if spam == 10:\n",
    "# print(&#39;eggs&#39;)\n",
    "# if spam &gt; 5:\n",
    "# print(&#39;bacon&#39;)\n",
    "# else:\n",
    "# print(&#39;ham&#39;)\n",
    "# print(&#39;spam&#39;)\n",
    "# print(&#39;spam&#39;)\n",
    "# 8. Write code that prints Hello if 1 is stored in spam, prints Howdy if 2 is stored in spam, and prints\n",
    "# Greetings! if anything else is stored in spam.\n",
    "\n",
    "# 9.If your programme is stuck in an endless loop, what keys you’ll press?\n",
    "# 10. How can you tell the difference between break and continue?\n",
    "# 11. In a for loop, what is the difference between range(10), range(0, 10), and range(0, 10, 1)?\n",
    "# 12. Write a short program that prints the numbers 1 to 10 using a for loop. Then write an equivalent\n",
    "# program that prints the numbers 1 to 10 using a while loop.\n",
    "# 13. If you had a function named bacon() inside a module named spam, how would you call it after\n",
    "# importing spam?"
   ]
  },
  {
   "cell_type": "markdown",
   "id": "3fc42243",
   "metadata": {},
   "source": [
    " # Answers "
   ]
  },
  {
   "cell_type": "code",
   "execution_count": null,
   "id": "faf634d2",
   "metadata": {},
   "outputs": [],
   "source": [
    "# The Boolean data type has two possible values: True and False. In Python, these values are keywords that represent the truth values in logical expressions.\n",
    "\n",
    "# True: Represents true or the concept of \"truth\" in logical expressions.\n",
    "# False: Represents false or the concept of \"false\" in logical expressions.\n",
    "# These values are case-sensitive in Python"
   ]
  },
  {
   "cell_type": "code",
   "execution_count": null,
   "id": "57412538",
   "metadata": {},
   "outputs": [],
   "source": [
    "# Boolean operators are used in logical expressions to combine or manipulate Boolean values. \n",
    "# There are three main Boolean operators in Python:\n",
    "# and: The and operator returns True if both operands are true; otherwise, it returns False.\n",
    "\n",
    "# Example:\n",
    "# x = True\n",
    "# y = False\n",
    "# result = x and y  # result is False\n",
    "\n",
    "# or: The or operator returns True if at least one of the operands is true; it returns False if both operands are false.\n",
    "# Example:\n",
    "# x = True\n",
    "# y = False\n",
    "# result = x or y  # result is True\n",
    "\n",
    "# not: The not operator returns the opposite Boolean value of its operand. If the operand is True, not returns False; if the operand is False, not returns True.\n",
    "# Example:\n",
    "# x = True\n",
    "# result = not x  # result is False\n",
    "    "
   ]
  },
  {
   "cell_type": "code",
   "execution_count": null,
   "id": "d8f8c703",
   "metadata": {},
   "outputs": [],
   "source": [
    "# Here are the truth tables for each Boolean operator:\n",
    "\n",
    "# and (Logical AND):\n",
    "# | A     | B     | A and B |\n",
    "# |-------|-------|---------|\n",
    "# | True  | True  | True    |\n",
    "# | True  | False | False   |\n",
    "# | False | True  | False   |\n",
    "# | False | False | False   |\n",
    "\n",
    "# or (Logical OR):\n",
    "# | A     | B     | A or B  |\n",
    "# |-------|-------|---------|\n",
    "# | True  | True  | True    |\n",
    "# | True  | False | True    |\n",
    "# | False | True  | True    |\n",
    "# | False | False | False   |\n",
    "\n",
    "# not (Logical NOT):\n",
    "# | A     | not A |\n",
    "# |-------|-------|\n",
    "# | True  | False |\n",
    "# | False | True  |"
   ]
  },
  {
   "cell_type": "code",
   "execution_count": null,
   "id": "7d6dfba4",
   "metadata": {},
   "outputs": [],
   "source": [
    "# (5 > 4) and (3 == 5):\n",
    "# 5 > 4 is True.\n",
    "# 3 == 5 is False.\n",
    "# True and False is False.\n",
    "\n",
    "# not (5 > 4):\n",
    "# 5 > 4 is True.\n",
    "# not True is False.\n",
    "\n",
    "# (5 > 4) or (3 == 5):\n",
    "# 5 > 4 is True.\n",
    "# 3 == 5 is False.\n",
    "# True or False is True.\n",
    "\n",
    "# not ((5 > 4) or (3 == 5)):\n",
    "# (5 > 4) or (3 == 5) is True.\n",
    "# not True is False.\n",
    "\n",
    "# (True and True) and (True == False):\n",
    "# True and True is True.\n",
    "# True == False is False.\n",
    "# True and False is False.\n",
    "\n",
    "# (not False) or (not True):\n",
    "# not False is True.\n",
    "# not True is False.\n",
    "# True or False is True.\n",
    "\n",
    "# So, the values of the given expressions are:\n",
    "# False\n",
    "# False\n",
    "# True\n",
    "# False\n",
    "# False\n",
    "# True"
   ]
  },
  {
   "cell_type": "code",
   "execution_count": null,
   "id": "eb2f1699",
   "metadata": {},
   "outputs": [],
   "source": [
    "# In Python, there are six comparison operators used to compare values. These operators return a Boolean value (either True or False) based on the comparison result. Here are the six comparison operators:\n",
    "\n",
    "# Equal to (==):\n",
    "# Returns True if the values on both sides are equal.\n",
    "\n",
    "# Not equal to (!=):\n",
    "# Returns True if the values on both sides are not equal.\n",
    "\n",
    "# Greater than (>):\n",
    "# Returns True if the value on the left is greater than the value on the right.\n",
    "\n",
    "# Less than (<):\n",
    "# Returns True if the value on the left is less than the value on the right.\n",
    "\n",
    "# Greater than or equal to (>=):\n",
    "# Returns True if the value on the left is greater than or equal to the value on the right.\n",
    "\n",
    "# Less than or equal to (<=):\n",
    "# Returns True if the value on the left is less than or equal to the value on the right."
   ]
  },
  {
   "cell_type": "code",
   "execution_count": null,
   "id": "f601fd98",
   "metadata": {},
   "outputs": [],
   "source": [
    "# The equal to operator (==) is used for comparison, checking if two values are equal,\n",
    "# whereas the assignment operator (=) is used for assigning a value to a variable. \n",
    "# The key difference is in their purposes:\n",
    "\n",
    "# Equal to Operator (==):\n",
    "# Used for comparing two values to check if they are equal.\n",
    "# Returns True if the values are equal, and False otherwise.\n",
    "# Example:\n",
    "# x = 5\n",
    "# y = 7\n",
    "# result = (x == y)  # This is a comparison, result is False\n",
    "\n",
    "# Assignment Operator (=):\n",
    "# Used for assigning a value to a variable.\n",
    "# Example:\n",
    "# x = 5  # Assigns the value 5 to the variable x"
   ]
  },
  {
   "cell_type": "code",
   "execution_count": null,
   "id": "80e9d9b8",
   "metadata": {},
   "outputs": [],
   "source": [
    "# In Python, indentation is used to define blocks of code. In the given code snippet, the blocks can be identified based on their indentation. \n",
    "# I'll correct the indentation first, and then identify the three blocks:\n",
    "\n",
    "# spam = 0\n",
    "# if spam == 10:\n",
    "#     print('eggs')\n",
    "# if spam > 5:\n",
    "#     print('bacon')\n",
    "# else:\n",
    "#     print('ham')\n",
    "#     print('spam')\n",
    "# print('spam')"
   ]
  },
  {
   "cell_type": "code",
   "execution_count": null,
   "id": "0adb07d3",
   "metadata": {},
   "outputs": [],
   "source": [
    "# spam = 1  # You can change the value of spam to test different cases\n",
    "\n",
    "# if spam == 1:\n",
    "#     print('Hello')\n",
    "# elif spam == 2:\n",
    "#     print('Howdy')\n",
    "# else:\n",
    "#     print('Greetings!')"
   ]
  },
  {
   "cell_type": "code",
   "execution_count": null,
   "id": "9df8739e",
   "metadata": {},
   "outputs": [],
   "source": [
    "# Ctrl + C\n",
    "# On most systems, this keyboard shortcut sends an interrupt signal to the running program, causing it to terminate. \n",
    "# It's a common way to break out of an infinite loop during development or debugging"
   ]
  },
  {
   "cell_type": "code",
   "execution_count": null,
   "id": "58a09168",
   "metadata": {},
   "outputs": [],
   "source": [
    "# In Python, break and continue are both control flow statements used within loops, but they serve different purposes:\n",
    "\n",
    "# break Statement:\n",
    "# The break statement is used to exit a loop prematurely.\n",
    "# When the break statement is encountered inside a loop, the loop is immediately terminated, \n",
    "# and the program control resumes at the next statement after the loop.\n",
    "# Example:\n",
    "# for i in range(5):\n",
    "#     if i == 3:\n",
    "#         break\n",
    "#     print(i)\n",
    "\n",
    "# continue Statement:\n",
    "# The continue statement is used to skip the rest of the code inside a loop for the current iteration and move to the next iteration.\n",
    "# When the continue statement is encountered, the remaining code in the loop for the current iteration is skipped, \n",
    "# and the loop proceeds with the next iteration.\n",
    "# Example:\n",
    "# for i in range(5):\n",
    "#     if i == 2:\n",
    "#         continue\n",
    "#     print(i)"
   ]
  },
  {
   "cell_type": "code",
   "execution_count": null,
   "id": "0257593d",
   "metadata": {},
   "outputs": [],
   "source": [
    "# In a for loop, the expressions range(10), range(0, 10), and range(0, 10, 1)\n",
    "# all produce the same result: a sequence of numbers from 0 to 9."
   ]
  },
  {
   "cell_type": "code",
   "execution_count": 2,
   "id": "7ff6fa00",
   "metadata": {},
   "outputs": [
    {
     "name": "stdout",
     "output_type": "stream",
     "text": [
      "1\n",
      "2\n",
      "3\n",
      "4\n",
      "5\n",
      "6\n",
      "7\n",
      "8\n",
      "9\n",
      "10\n"
     ]
    }
   ],
   "source": [
    "# for i in range(1, 11, 1):\n",
    "#     print(i)\n",
    "\n",
    "# i=1\n",
    "# while(i<11):\n",
    "#     print(i)\n",
    "#     i+=1"
   ]
  },
  {
   "cell_type": "code",
   "execution_count": null,
   "id": "a56f76bf",
   "metadata": {},
   "outputs": [],
   "source": [
    "# import spam\n",
    "# spam.bacon()\n",
    "\n",
    "# Here's a breakdown of the steps:\n",
    "# import spam: Imports the spam module.\n",
    "# spam.bacon(): Calls the bacon() function within the spam module."
   ]
  },
  {
   "cell_type": "code",
   "execution_count": null,
   "id": "e72f6ed6",
   "metadata": {},
   "outputs": [],
   "source": []
  }
 ],
 "metadata": {
  "kernelspec": {
   "display_name": "Python 3 (ipykernel)",
   "language": "python",
   "name": "python3"
  },
  "language_info": {
   "codemirror_mode": {
    "name": "ipython",
    "version": 3
   },
   "file_extension": ".py",
   "mimetype": "text/x-python",
   "name": "python",
   "nbconvert_exporter": "python",
   "pygments_lexer": "ipython3",
   "version": "3.8.10"
  }
 },
 "nbformat": 4,
 "nbformat_minor": 5
}
