{
 "cells": [
  {
   "cell_type": "code",
   "execution_count": null,
   "id": "1566b647",
   "metadata": {},
   "outputs": [],
   "source": [
    "# 1. Create a list called years_list, starting with the year of your birth, and each year thereafter until\n",
    "# the year of your fifth birthday. For example, if you were born in 1980. the list would be years_list =\n",
    "# [1980, 1981, 1982, 1983, 1984, 1985].\n",
    "# 2. In which year in years_list was your third birthday? Remember, you were 0 years of age for your\n",
    "# first year.\n",
    "# 3.In the years list, which year were you the oldest?\n",
    "# 4. Make a list called things with these three strings as elements: &quot;mozzarella&quot;, &quot;cinderella&quot;,\n",
    "# &quot;salmonella&quot;.\n",
    "# 5. Capitalize the element in things that refers to a person and then print the list. Did it change the\n",
    "# element in the list?\n",
    "# 6. Make a surprise list with the elements &quot;Groucho,&quot; &quot;Chico,&quot; and &quot;Harpo.&quot;\n",
    "# 7. Lowercase the last element of the surprise list, reverse it, and then capitalize it.\n",
    "# 8. Make an English-to-French dictionary called e2f and print it. Here are your starter words: dog is\n",
    "# chien, cat is chat, and walrus is morse.\n",
    "# 9. Write the French word for walrus in your three-word dictionary e2f.\n",
    "# 10. Make a French-to-English dictionary called f2e from e2f. Use the items method.\n",
    "# 11. Print the English version of the French word chien using f2e.\n",
    "# 12. Make and print a set of English words from the keys in e2f.\n",
    "# 13. Make a multilevel dictionary called life. Use these strings for the topmost keys: &#39;animals&#39;, &#39;plants&#39;,\n",
    "# and &#39;other&#39;. Make the &#39;animals&#39; key refer to another dictionary with the keys &#39;cats&#39;, &#39;octopi&#39;, and\n",
    "# &#39;emus&#39;. Make the &#39;cats&#39; key refer to a list of strings with the values &#39;Henri&#39;, &#39;Grumpy&#39;, and &#39;Lucy&#39;.\n",
    "# Make all the other keys refer to empty dictionaries.\n",
    "# 14. Print the top-level keys of life.\n",
    "# 15. Print the keys for life[&#39;animals&#39;].\n",
    "# 16. Print the values for life[&#39;animals&#39;][&#39;cats&#39;]"
   ]
  },
  {
   "cell_type": "code",
   "execution_count": 1,
   "id": "d5e0c74a",
   "metadata": {},
   "outputs": [
    {
     "name": "stdout",
     "output_type": "stream",
     "text": [
      "[2000, 2001, 2002, 2003, 2004, 2005]\n"
     ]
    }
   ],
   "source": [
    "# Define the year of birth\n",
    "birth_year = 2000\n",
    "\n",
    "# Create the list using a list comprehension\n",
    "years_list = [birth_year + i for i in range(6)]\n",
    "\n",
    "print(years_list)"
   ]
  },
  {
   "cell_type": "code",
   "execution_count": 3,
   "id": "86206614",
   "metadata": {},
   "outputs": [
    {
     "name": "stdout",
     "output_type": "stream",
     "text": [
      "Year of third birthday: 2002\n"
     ]
    }
   ],
   "source": [
    "# The index corresponding to the year of third birthday would be 2\n",
    "year_of_third_birthday = years_list[2]\n",
    "\n",
    "print(\"Year of third birthday:\", year_of_third_birthday)"
   ]
  },
  {
   "cell_type": "code",
   "execution_count": 5,
   "id": "6b045d86",
   "metadata": {},
   "outputs": [
    {
     "name": "stdout",
     "output_type": "stream",
     "text": [
      "Year when you were the oldest: 2005\n"
     ]
    }
   ],
   "source": [
    "oldest_year = years_list[-1]\n",
    "print(\"Year when you were the oldest:\", oldest_year)"
   ]
  },
  {
   "cell_type": "code",
   "execution_count": 6,
   "id": "3223383d",
   "metadata": {},
   "outputs": [],
   "source": [
    "things = [\"mozzarella\", \"cinderella\", \"salmonella\"]"
   ]
  },
  {
   "cell_type": "code",
   "execution_count": 8,
   "id": "51a3ade4",
   "metadata": {},
   "outputs": [
    {
     "name": "stdout",
     "output_type": "stream",
     "text": [
      "['mozzarella', 'Cinderella', 'salmonella']\n"
     ]
    }
   ],
   "source": [
    "things = [\"mozzarella\", \"cinderella\", \"salmonella\"]\n",
    "\n",
    "# Capitalize the element referring to a person\n",
    "for i in range(len(things)):\n",
    "    if \"cinderella\" in things[i]:\n",
    "        things[i] = things[i].capitalize()\n",
    "\n",
    "print(things)"
   ]
  },
  {
   "cell_type": "code",
   "execution_count": 9,
   "id": "068b7d16",
   "metadata": {},
   "outputs": [],
   "source": [
    "surprise = [\"Groucho\", \"Chico\", \"Harpo\"]"
   ]
  },
  {
   "cell_type": "code",
   "execution_count": null,
   "id": "92b74c5b",
   "metadata": {},
   "outputs": [],
   "source": [
    "surprise = [\"Groucho\", \"Chico\", \"Harpo\"]\n",
    "\n",
    "# Lowercase the last element\n",
    "last_element_lower = surprise[-1].lower()\n",
    "\n",
    "# Reverse the characters in the last element\n",
    "last_element_reversed = last_element_lower[::-1]\n",
    "\n",
    "# Capitalize the reversed element\n",
    "last_element_capitalized = last_element_reversed.capitalize()\n",
    "\n",
    "print(last_element_capitalized)"
   ]
  },
  {
   "cell_type": "code",
   "execution_count": 11,
   "id": "b982471d",
   "metadata": {},
   "outputs": [
    {
     "name": "stdout",
     "output_type": "stream",
     "text": [
      "{'dog': 'chien', 'cat': 'chat', 'walrus': 'morse'}\n"
     ]
    }
   ],
   "source": [
    "# Create the English-to-French dictionary\n",
    "e2f = {\n",
    "    'dog': 'chien',\n",
    "    'cat': 'chat',\n",
    "    'walrus': 'morse'\n",
    "}\n",
    "\n",
    "# Print the dictionary\n",
    "print(e2f)"
   ]
  },
  {
   "cell_type": "code",
   "execution_count": 15,
   "id": "e6b76a3a",
   "metadata": {},
   "outputs": [
    {
     "name": "stdout",
     "output_type": "stream",
     "text": [
      "French word for walrus: morse\n"
     ]
    }
   ],
   "source": [
    "# French word for walrus in the dictionary e2f\n",
    "french_word_for_walrus = e2f['walrus']\n",
    "\n",
    "print(\"French word for walrus:\", french_word_for_walrus)"
   ]
  },
  {
   "cell_type": "code",
   "execution_count": 14,
   "id": "1ee6010a",
   "metadata": {},
   "outputs": [
    {
     "name": "stdout",
     "output_type": "stream",
     "text": [
      "{'chien': 'dog', 'chat': 'cat', 'morse': 'walrus'}\n"
     ]
    }
   ],
   "source": [
    "# Original English-to-French dictionary\n",
    "e2f = {\n",
    "    'dog': 'chien',\n",
    "    'cat': 'chat',\n",
    "    'walrus': 'morse'\n",
    "}\n",
    "\n",
    "# Create the French-to-English dictionary using the items method\n",
    "f2e = {value: key for key, value in e2f.items()}\n",
    "\n",
    "# Print the French-to-English dictionary\n",
    "print(f2e)"
   ]
  },
  {
   "cell_type": "code",
   "execution_count": 19,
   "id": "ea63ebf6",
   "metadata": {},
   "outputs": [
    {
     "name": "stdout",
     "output_type": "stream",
     "text": [
      "dog\n"
     ]
    }
   ],
   "source": [
    "print(f2e['chien'])"
   ]
  },
  {
   "cell_type": "code",
   "execution_count": 22,
   "id": "fc5abf0a",
   "metadata": {},
   "outputs": [
    {
     "name": "stdout",
     "output_type": "stream",
     "text": [
      "{'walrus', 'cat', 'dog'}\n"
     ]
    }
   ],
   "source": [
    "# set of english words:\n",
    "print(set(e2f.keys()))"
   ]
  },
  {
   "cell_type": "code",
   "execution_count": 24,
   "id": "d1d52aad",
   "metadata": {},
   "outputs": [
    {
     "name": "stdout",
     "output_type": "stream",
     "text": [
      "{'animals': {'cats': ['Henri', 'Grumpy', 'Lucy'], 'octopi': {}, 'emus': {}}, 'plants': {}, 'other': {}}\n"
     ]
    }
   ],
   "source": [
    "life={'animals':{'cats':['Henri', 'Grumpy', 'Lucy'],'octopi':{}, 'emus':{}}, 'plants':{}, 'other':{}}\n",
    "print(life)"
   ]
  },
  {
   "cell_type": "code",
   "execution_count": 25,
   "id": "ca962963",
   "metadata": {},
   "outputs": [
    {
     "name": "stdout",
     "output_type": "stream",
     "text": [
      "Top-level keys of life: ['animals', 'plants', 'other']\n"
     ]
    }
   ],
   "source": [
    "# Print the top-level keys of the life dictionary\n",
    "print(\"Top-level keys of life:\", list(life.keys()))"
   ]
  },
  {
   "cell_type": "code",
   "execution_count": 27,
   "id": "c39a0a03",
   "metadata": {},
   "outputs": [
    {
     "name": "stdout",
     "output_type": "stream",
     "text": [
      "keys for life['animals']. ['cats', 'octopi', 'emus']\n"
     ]
    }
   ],
   "source": [
    "print(\"keys for life['animals'].\", list(life['animals'].keys()))"
   ]
  },
  {
   "cell_type": "code",
   "execution_count": 31,
   "id": "739729a4",
   "metadata": {},
   "outputs": [
    {
     "name": "stdout",
     "output_type": "stream",
     "text": [
      "['Henri', 'Grumpy', 'Lucy']\n"
     ]
    }
   ],
   "source": [
    "# values for life['animals']['cats']\n",
    "print(life['animals']['cats'])"
   ]
  },
  {
   "cell_type": "code",
   "execution_count": null,
   "id": "15ac8509",
   "metadata": {},
   "outputs": [],
   "source": []
  },
  {
   "cell_type": "code",
   "execution_count": null,
   "id": "f24e9aff",
   "metadata": {},
   "outputs": [],
   "source": []
  },
  {
   "cell_type": "code",
   "execution_count": null,
   "id": "b9cd27d9",
   "metadata": {},
   "outputs": [],
   "source": []
  }
 ],
 "metadata": {
  "kernelspec": {
   "display_name": "Python 3 (ipykernel)",
   "language": "python",
   "name": "python3"
  },
  "language_info": {
   "codemirror_mode": {
    "name": "ipython",
    "version": 3
   },
   "file_extension": ".py",
   "mimetype": "text/x-python",
   "name": "python",
   "nbconvert_exporter": "python",
   "pygments_lexer": "ipython3",
   "version": "3.8.10"
  }
 },
 "nbformat": 4,
 "nbformat_minor": 5
}
