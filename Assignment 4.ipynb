{
 "cells": [
  {
   "cell_type": "code",
   "execution_count": null,
   "id": "a01cf73c",
   "metadata": {},
   "outputs": [],
   "source": [
    "# 1. What exactly is []?\n",
    "# 2. In a list of values stored in a variable called spam, how would you assign the value &#39;hello&#39; as the\n",
    "# third value? (Assume [2, 4, 6, 8, 10] are in spam.)\n",
    "# Let&#39;s pretend the spam includes the list [&#39;a&#39;, &#39;b&#39;, &#39;c&#39;, &#39;d&#39;] for the next three queries.\n",
    "# 3. What is the value of spam[int(int(&#39;3&#39; * 2) / 11)]?\n",
    "# 4. What is the value of spam[-1]?\n",
    "# 5. What is the value of spam[:2]?\n",
    "# Let&#39;s pretend bacon has the list [3.14, &#39;cat,&#39; 11, &#39;cat,&#39; True] for the next three questions.\n",
    "# 6. What is the value of bacon.index(&#39;cat&#39;)?\n",
    "# 7. How does bacon.append(99) change the look of the list value in bacon?\n",
    "# 8. How does bacon.remove(&#39;cat&#39;) change the look of the list in bacon?\n",
    "# 9. What are the list concatenation and list replication operators?\n",
    "# 10. What is difference between the list methods append() and insert()?\n",
    "# 11. What are the two methods for removing items from a list?\n",
    "# 12. Describe how list values and string values are identical.\n",
    "# 13. What&#39;s the difference between tuples and lists?\n",
    "# 14. How do you type a tuple value that only contains the integer 42?\n",
    "# 15. How do you get a list value&#39;s tuple form? How do you get a tuple value&#39;s list form?\n",
    "# 16. Variables that &quot;contain&quot; list values are not necessarily lists themselves. Instead, what do they\n",
    "# contain?\n",
    "# 17. How do you distinguish between copy.copy() and copy.deepcopy()?"
   ]
  },
  {
   "cell_type": "markdown",
   "id": "3d66042b",
   "metadata": {},
   "source": [
    "# Answers"
   ]
  },
  {
   "cell_type": "code",
   "execution_count": null,
   "id": "1fde9c36",
   "metadata": {},
   "outputs": [],
   "source": [
    "# In Python, [] represents an empty list. Lists are a fundamental data structure in Python used to store collections of items.\n",
    "# An empty list [] contains no elements. You can create an empty list to initialize a list variable when you plan to append or populate it with elements later. "
   ]
  },
  {
   "cell_type": "code",
   "execution_count": null,
   "id": "010fbd2b",
   "metadata": {},
   "outputs": [],
   "source": [
    "# To assign the value 'hello' as the third value in the list stored in the variable spam, use indexing. \n",
    "# In Python, indexing starts at 0, so the third element in the list has an index of 2. \n",
    "# spam = [2, 4, 6, 8, 10]\n",
    "# spam[2] = 'hello'\n",
    "# After executing this code, the list spam would be [2, 4, 'hello', 8, 10], with 'hello' as the third element."
   ]
  },
  {
   "cell_type": "code",
   "execution_count": null,
   "id": "cd96ab98",
   "metadata": {},
   "outputs": [],
   "source": [
    "# spam[int(int('3' * 2) / 11)]:\n",
    "# First, int('3' * 2) evaluates to 33. Then 33 / 11 gives 3. So, spam[3] refers to the fourth element of the list, which is 'd'."
   ]
  },
  {
   "cell_type": "code",
   "execution_count": null,
   "id": "6c0f602e",
   "metadata": {},
   "outputs": [],
   "source": [
    "# spam[-1]:\n",
    "# Negative indexing refers to counting from the end of the list. -1 refers to the last element of the list, \n",
    "# so spam[-1] would give 'd'."
   ]
  },
  {
   "cell_type": "code",
   "execution_count": null,
   "id": "04586969",
   "metadata": {},
   "outputs": [],
   "source": [
    "# spam[:2]:\n",
    "# This is a slice operation. It selects elements starting from index 0 (inclusive) up to index 2 (exclusive). \n",
    "# So, spam[:2] would return ['a', 'b']."
   ]
  },
  {
   "cell_type": "code",
   "execution_count": null,
   "id": "cdaf689d",
   "metadata": {},
   "outputs": [],
   "source": [
    "# bacon.index('cat'):\n",
    "# This function returns the index of the first occurrence of 'cat' in the list. \n",
    "# Since 'cat' appears at index 1, the value of bacon.index('cat') would be 1."
   ]
  },
  {
   "cell_type": "code",
   "execution_count": null,
   "id": "036babf6",
   "metadata": {},
   "outputs": [],
   "source": [
    "# bacon.append(99):\n",
    "# This function appends the value 99 to the end of the list. A\n",
    "# fter bacon.append(99) is executed, the list bacon would become [3.14, 'cat', 11, 'cat', True, 99]."
   ]
  },
  {
   "cell_type": "code",
   "execution_count": null,
   "id": "3d882cc2",
   "metadata": {},
   "outputs": [],
   "source": [
    "# bacon.remove('cat'):\n",
    "# This function removes the first occurrence of 'cat' from the list. After bacon.remove('cat') is executed, \n",
    "# the list bacon would become [3.14, 11, 'cat', True] because the first occurrence of 'cat' is removed."
   ]
  },
  {
   "cell_type": "code",
   "execution_count": null,
   "id": "d4a501eb",
   "metadata": {},
   "outputs": [],
   "source": [
    "# List Concatenation Operator (+): This operator is used to concatenate two lists,\n",
    "# creating a new list containing all the elements from both lists in the order they appear.\n",
    "# Example:\n",
    "# list1 = [1, 2, 3]\n",
    "# list2 = [4, 5, 6]\n",
    "# concatenated_list = list1 + list2\n",
    "# print(concatenated_list)  # Output: [1, 2, 3, 4, 5, 6]\n",
    "\n",
    "# List Replication Operator (*): This operator is used to replicate a list by a given integer value, \n",
    "# creating a new list with multiple copies of the original list.\n",
    "# Example:\n",
    "# original_list = [1, 2, 3]\n",
    "# replicated_list = original_list * 3\n",
    "# print(replicated_list)  # Output: [1, 2, 3, 1, 2, 3, 1, 2, 3]\n",
    "\n",
    "# It's important to note that both operators create new lists and do not modify the original lists."
   ]
  },
  {
   "cell_type": "code",
   "execution_count": null,
   "id": "1f427791",
   "metadata": {},
   "outputs": [],
   "source": [
    "# The append() and insert() methods in Python are both used to add elements to a list,\n",
    "# but they differ in how they add elements and where they add them within the list.\n",
    "\n",
    "# append():\n",
    "# append() is used to add an element to the end of a list.\n",
    "# Syntax: list.append(element)\n",
    "# It modifies the original list by adding the element to the end.\n",
    "# Example:\n",
    "# my_list = [1, 2, 3]\n",
    "# my_list.append(4)\n",
    "# print(my_list)  # Output: [1, 2, 3, 4]\n",
    "\n",
    "# insert():\n",
    "# insert() is used to add an element at a specified index in the list.\n",
    "# Syntax: list.insert(index, element)\n",
    "# It modifies the original list by inserting the element at the specified index. Elements after the index are shifted to the right.\n",
    "# Example:\n",
    "# my_list = [1, 2, 3]\n",
    "# my_list.insert(1, 4)  # Inserts 4 at index 1\n",
    "# print(my_list)  # Output: [1, 4, 2, 3]"
   ]
  },
  {
   "cell_type": "code",
   "execution_count": null,
   "id": "e1fc375f",
   "metadata": {},
   "outputs": [],
   "source": [
    "remove() method:\n",
    "\n",
    "# The remove() method is used to remove the first occurrence of a specified value from the list.\n",
    "# Syntax: list.remove(value)\n",
    "# It modifies the original list by removing the specified value. If the value appears multiple times in the list, only the first occurrence is removed.\n",
    "# Example:\n",
    "# my_list = [1, 2, 3, 2, 4]\n",
    "# my_list.remove(2)  # Removes the first occurrence of 2\n",
    "# print(my_list)  # Output: [1, 3, 2, 4]\n",
    "\n",
    "# pop() method:\n",
    "# The pop() method is used to remove and return the item at a specified index (default is the last item) from the list.\n",
    "# Syntax: list.pop([index])\n",
    "# It modifies the original list by removing the item at the specified index and returning its value. If no index is specified, it removes and returns the last item in the list.\n",
    "# my_list = [1, 2, 3, 4]\n",
    "# popped_item = my_list.pop(1)  # Removes and returns the item at index 1 (2)\n",
    "# print(my_list)  # Output: [1, 3, 4]\n",
    "# print(popped_item)  # Output: 2"
   ]
  },
  {
   "cell_type": "code",
   "execution_count": null,
   "id": "db7e30f3",
   "metadata": {},
   "outputs": [],
   "source": [
    "# Sequential Data Structure:\n",
    "# Both lists and strings are sequential data structures, meaning they store elements or characters in a specific order.\n",
    "# Lists store elements of any data type, while strings store characters.\n",
    "\n",
    "# Indexing and Slicing:\n",
    "# Both lists and strings support indexing and slicing operations.\n",
    "# Indexing allows accessing individual elements or characters within the sequence.\n",
    "# Slicing allows extracting subsequences from the original sequence based on specified start, stop, and step parameters.\n",
    "\n",
    "# Iteration:\n",
    "# Both lists and strings can be iterated over using loops such as for loops.\n",
    "# Iterating over a list traverses through its elements, while iterating over a string traverses through its characters.\n",
    "\n",
    "# Immutable vs. Mutable:\n",
    "# Strings are immutable, meaning their contents cannot be changed after creation.\n",
    "# Any operation that appears to modify a string actually creates a new string.\n",
    "# Lists are mutable, allowing their elements to be modified, added, or removed after creation.\n",
    "\n",
    "# Concatenation and Replication:\n",
    "# Both lists and strings support concatenation (using + operator) to combine two sequences into a new one.\n",
    "# Both also support replication (using * operator) to create multiple copies of a sequence.\n",
    "\n",
    "# Length:\n",
    "# Both lists and strings have a length, which can be obtained using the len() function.\n",
    "# The length represents the number of elements in a list or the number of characters in a string."
   ]
  },
  {
   "cell_type": "code",
   "execution_count": null,
   "id": "4855b851",
   "metadata": {},
   "outputs": [],
   "source": [
    "# Mutability:\n",
    "# Lists are mutable, meaning their elements can be changed after creation. You can add, remove, or modify elements in a list.\n",
    "# Tuples, on the other hand, are immutable. Once a tuple is created, its elements cannot be changed, added, or removed. However, you can create a new tuple with different elements.\n",
    "\n",
    "# Syntax:\n",
    "# Lists are enclosed in square brackets [ ], e.g., [1, 2, 3].\n",
    "# Tuples are enclosed in parentheses ( ), e.g., (1, 2, 3).\n",
    "\n",
    "# Performance:\n",
    "# Tuples are generally more memory efficient and have slightly faster performance compared to lists, especially when dealing with large collections of data.\n",
    "# This efficiency comes from their immutability and fixed structure, allowing Python to optimize memory usage and operations on tuples.\n",
    "\n",
    "# Use Cases:\n",
    "# Lists are commonly used for collections of items where the order and elements may change over time, such as when building a dynamic list of user inputs or processing data.\n",
    "# Tuples are often used for fixed collections of items where immutability is desired, such as representing coordinates, database records, or returning multiple values from a function.\n",
    "\n",
    "# Iteration:\n",
    "# Both lists and tuples support iteration using loops like for loops. However, since tuples are immutable, they are faster to iterate over than lists."
   ]
  },
  {
   "cell_type": "code",
   "execution_count": null,
   "id": "f6531be5",
   "metadata": {},
   "outputs": [],
   "source": [
    "# my_tuple = (42,)\n",
    "# The comma , after the integer 42 is necessary to differentiate it from a mathematical expression within parentheses. \n",
    "# This ensures that Python recognizes the value as a tuple containing a single element, rather than just the integer 42."
   ]
  },
  {
   "cell_type": "code",
   "execution_count": null,
   "id": "a1c9e6d4",
   "metadata": {},
   "outputs": [],
   "source": [
    "# Convert a list to a tuple:\n",
    "# my_list = [1, 2, 3, 4, 5]\n",
    "# my_tuple = tuple(my_list)\n",
    "\n",
    "# Convert a tuple to a list:\n",
    "# my_tuple = (1, 2, 3, 4, 5)\n",
    "# my_list = list(my_tuple)\n",
    "# In both cases, Python's built-in constructor functions tuple() and list() are used to perform the conversion. \n",
    "# This allows to easily switch between list and tuple representations of data as needed."
   ]
  },
  {
   "cell_type": "code",
   "execution_count": null,
   "id": "707e1276",
   "metadata": {},
   "outputs": [],
   "source": [
    "# Variables that \"contain\" list values are not actually containing the list itself, but rather a reference or pointer to the list object in memory.\n",
    "# In Python, variables are essentially labels or names that point to objects in memory. When you assign a list to a variable, the variable holds a reference to the memory location where the list is stored.\n",
    "# So, when you manipulate the list through the variable, you're actually manipulating the list object that the variable references. \n",
    "# This means that if you assign the same list to multiple variables, they all reference the same list object in memory. \n",
    "# Any modifications made through one variable will be reflected in all other variables that reference the same list object.\n",
    "\n",
    "# For example:\n",
    "# list1 = [1, 2, 3]\n",
    "# list2 = list1  # list2 now refers to the same list object as list1\n",
    "\n",
    "# # Modify list1\n",
    "# list1.append(4)\n",
    "# print(list2)  # Output: [1, 2, 3, 4]"
   ]
  },
  {
   "cell_type": "code",
   "execution_count": null,
   "id": "1c51cb4f",
   "metadata": {},
   "outputs": [],
   "source": [
    "# copy.copy():\n",
    "# copy.copy() creates a shallow copy of an object.\n",
    "# A shallow copy constructs a new compound object and then (to the extent possible) inserts references into it to the objects found in the original.\n",
    "# In the context of lists and dictionaries, a shallow copy creates a new list or dictionary, but the elements within it are references to the same objects as in the original list or dictionary.\n",
    "# Changes made to nested mutable objects (such as lists within a list) in the copied object will affect the original object, and vice versa.\n",
    "# Example:\n",
    "# import copy\n",
    "# original_list = [1, [2, 3], 4]\n",
    "# shallow_copy = copy.copy(original_list)\n",
    "\n",
    "# copy.deepcopy():\n",
    "# copy.deepcopy() creates a deep copy of an object.\n",
    "# A deep copy constructs a new compound object and then, recursively, inserts copies into it of the objects found in the original.\n",
    "# In contrast to shallow copy, a deep copy creates a completely independent copy of the original object and all of its nested objects.\n",
    "# Changes made to the copied object or its nested objects will not affect the original object, and vice versa.\n",
    "# Example:\n",
    "# import copy\n",
    "# original_list = [1, [2, 3], 4]\n",
    "# deep_copy = copy.deepcopy(original_list)"
   ]
  }
 ],
 "metadata": {
  "kernelspec": {
   "display_name": "Python 3 (ipykernel)",
   "language": "python",
   "name": "python3"
  },
  "language_info": {
   "codemirror_mode": {
    "name": "ipython",
    "version": 3
   },
   "file_extension": ".py",
   "mimetype": "text/x-python",
   "name": "python",
   "nbconvert_exporter": "python",
   "pygments_lexer": "ipython3",
   "version": "3.8.10"
  }
 },
 "nbformat": 4,
 "nbformat_minor": 5
}
