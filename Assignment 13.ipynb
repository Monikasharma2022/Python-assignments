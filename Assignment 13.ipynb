{
 "cells": [
  {
   "cell_type": "code",
   "execution_count": null,
   "id": "cf1dc456",
   "metadata": {},
   "outputs": [],
   "source": [
    "# 1. What advantages do Excel spreadsheets have over CSV spreadsheets?\n",
    "# 2.What do you pass to csv.reader() and csv.writer() to create reader and writer objects?\n",
    "# 3. What modes do File objects for reader and writer objects need to be opened in?\n",
    "# 4. What method takes a list argument and writes it to a CSV file?\n",
    "# 5. What do the keyword arguments delimiter and line terminator do?\n",
    "# 6. What function takes a string of JSON data and returns a Python data structure?\n",
    "# 7. What function takes a Python data structure and returns a string of JSON data?"
   ]
  },
  {
   "cell_type": "code",
   "execution_count": null,
   "id": "35178348",
   "metadata": {},
   "outputs": [],
   "source": [
    "# Excel spreadsheets offer several advantages over CSV (Comma-Separated Values) files:\n",
    "# Formatting: Excel allows for rich formatting options such as fonts, colors, borders, and cell alignments. \n",
    "# This makes it easier to organize and present data in a visually appealing manner, which can enhance readability and understanding.\n",
    "\n",
    "# Formulas and Functions: Excel supports a wide range of built-in formulas and functions for performing calculations, \n",
    "# data analysis, and manipulation. Users can utilize these functions to automate tasks and perform complex calculations\n",
    "# directly within the spreadsheet.\n",
    "\n",
    "# Charts and Graphs: Excel provides built-in charting tools that allow users to create various types of charts and graphs\n",
    "# to visually represent data. This can be particularly useful for data visualization and analysis purposes.\n",
    "\n",
    "# Data Validation: Excel offers data validation features that enable users to define rules and restrictions for data entry.\n",
    "# This helps ensure data integrity and accuracy by preventing users from entering invalid or incorrect data.\n",
    "\n",
    "# Data Organization: Excel provides features such as sorting, filtering, and grouping that facilitate data organization and\n",
    "# manipulation. Users can easily rearrange and analyze data to extract valuable insights.\n",
    "\n",
    "# Multiple Sheets: Excel workbooks can contain multiple sheets, allowing users to organize related data into separate tabs\n",
    "# within a single file. This can help keep data organized and make it easier to manage large datasets.\n",
    "\n",
    "# Data Protection: Excel offers various security features such as password protection and file encryption to help protect\n",
    "# sensitive data from unauthorized access."
   ]
  },
  {
   "cell_type": "code",
   "execution_count": null,
   "id": "2dd928fe",
   "metadata": {},
   "outputs": [],
   "source": [
    "# For csv.reader(): You pass an opened file object in read mode. This could be obtained by using the open() function with the desired CSV file.\n",
    "# import csv\n",
    "# with open('example.csv', 'r') as csv_file:\n",
    "#     csv_reader = csv.reader(csv_file)\n",
    "# In this example, 'example.csv' is the name of the CSV file, and 'r' indicates that the file is opened in read mode.\n",
    "\n",
    "# For csv.writer(): You pass an opened file object in write mode. This could also be obtained by using the open() function with the desired CSV file.\n",
    "# import csv\n",
    "# with open('output.csv', 'w', newline='') as csv_file:\n",
    "#     csv_writer = csv.writer(csv_file)\n",
    "# In this example, 'output.csv' is the name of the CSV file, 'w' indicates that the file is opened in write mode, \n",
    "# and newline='' is used to ensure that no additional newline characters are added by the csv.writer()."
   ]
  },
  {
   "cell_type": "code",
   "execution_count": null,
   "id": "51fa54ef",
   "metadata": {},
   "outputs": [],
   "source": [
    "# For the csv.reader() function, the file object should be opened in read mode ('r'). \n",
    "# This allows the reader object to read from the file.\n",
    "\n",
    "# For the csv.writer() function, the file object should be opened in write mode ('w'). \n",
    "# This allows the writer object to write to the file."
   ]
  },
  {
   "cell_type": "code",
   "execution_count": null,
   "id": "ea76b91a",
   "metadata": {},
   "outputs": [],
   "source": [
    "# The writerow() method is used to write a list of data to a CSV file using a csv.writer() object in Python.\n",
    "# import csv\n",
    "# # Open the CSV file in write mode\n",
    "# with open('output.csv', 'w', newline='') as csv_file:\n",
    "#     csv_writer = csv.writer(csv_file)\n",
    "    \n",
    "#     # Write a list of data to the CSV file\n",
    "#     csv_writer.writerow(['Name', 'Age', 'City'])\n",
    "#     csv_writer.writerow(['John', 30, 'New York'])\n",
    "#     csv_writer.writerow(['Alice', 25, 'Los Angeles'])\n",
    "#     # You can continue writing rows as needed"
   ]
  },
  {
   "cell_type": "code",
   "execution_count": null,
   "id": "57133ade",
   "metadata": {},
   "outputs": [],
   "source": [
    "# In Python's csv module, the keyword arguments delimiter and lineterminator are used when working with CSV files to\n",
    "# customize how the data is formatted.\n",
    "# Delimiter: The delimiter argument specifies the character used to separate fields in the CSV file.By default, this character\n",
    "# is a comma (,), but you can specify a different character if your CSV file uses a different delimiter, \n",
    "# such as a tab (\\t) or a semicolon (;). For example:\n",
    "# import csv\n",
    "# with open('output.csv', 'w', newline='') as csv_file:\n",
    "#     csv_writer = csv.writer(csv_file, delimiter='\\t')\n",
    "#     csv_writer.writerow(['Name', 'Age', 'City'])\n",
    "#     csv_writer.writerow(['John', 30, 'New York'])\n",
    "#     csv_writer.writerow(['Alice', 25, 'Los Angeles'])\n",
    "# In this example, we're using a tab (\\t) as the delimiter.\n",
    "\n",
    "# Line Terminator: The lineterminator argument specifies the character sequence used to terminate lines in the CSV file. By default, this is '\\r\\n' (CRLF, or carriage return followed by linefeed), which is the standard line ending on Windows systems. However, you can specify a different line terminator if needed. For example:\n",
    "# import csv\n",
    "# with open('output.csv', 'w', newline='') as csv_file:\n",
    "#     csv_writer = csv.writer(csv_file, lineterminator='\\n')\n",
    "#     csv_writer.writerow(['Name', 'Age', 'City'])\n",
    "#     csv_writer.writerow(['John', 30, 'New York'])\n",
    "#     csv_writer.writerow(['Alice', 25, 'Los Angeles'])\n",
    "# In this example, we're using '\\n' (LF, or linefeed) as the line terminator.\n",
    "\n",
    "# These arguments allow you to customize the formatting of the CSV file to match the specifications of the CSV files\n",
    "# you are working with or to comply with specific requirements."
   ]
  },
  {
   "cell_type": "code",
   "execution_count": null,
   "id": "0b9879a9",
   "metadata": {},
   "outputs": [],
   "source": [
    "# The json.loads() function in Python is used to parse a string containing JSON data and convert it into a Python data structure.\n",
    "# import json\n",
    "# # JSON string\n",
    "# json_data = '{\"name\": \"John\", \"age\": 30, \"city\": \"New York\"}'\n",
    "\n",
    "# # Parse JSON string into Python data structure\n",
    "# python_data = json.loads(json_data)\n",
    "\n",
    "# # Print the Python data structure\n",
    "# print(python_data)"
   ]
  },
  {
   "cell_type": "code",
   "execution_count": null,
   "id": "ad70c12e",
   "metadata": {},
   "outputs": [],
   "source": [
    "# The json.dumps() function in Python is used to serialize a Python data structure into a JSON formatted string.\n",
    "# import json\n",
    "\n",
    "# # Python data structure\n",
    "# python_data = {'name': 'John', 'age': 30, 'city': 'New York'}\n",
    "\n",
    "# # Convert Python data structure to JSON string\n",
    "# json_data = json.dumps(python_data)\n",
    "\n",
    "# # Print the JSON string\n",
    "# print(json_data)"
   ]
  }
 ],
 "metadata": {
  "kernelspec": {
   "display_name": "Python 3 (ipykernel)",
   "language": "python",
   "name": "python3"
  },
  "language_info": {
   "codemirror_mode": {
    "name": "ipython",
    "version": 3
   },
   "file_extension": ".py",
   "mimetype": "text/x-python",
   "name": "python",
   "nbconvert_exporter": "python",
   "pygments_lexer": "ipython3",
   "version": "3.8.10"
  }
 },
 "nbformat": 4,
 "nbformat_minor": 5
}
