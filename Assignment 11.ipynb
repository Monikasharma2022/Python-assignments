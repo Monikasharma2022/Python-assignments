{
 "cells": [
  {
   "cell_type": "code",
   "execution_count": null,
   "id": "ae320fae",
   "metadata": {},
   "outputs": [],
   "source": [
    "# 1. Create an assert statement that throws an AssertionError if the variable spam is a negative\n",
    "# integer.\n",
    "# 2. Write an assert statement that triggers an AssertionError if the variables eggs and bacon contain\n",
    "# strings that are the same as each other, even if their cases are different (that is, &#39;hello&#39; and &#39;hello&#39; are\n",
    "# considered the same, and &#39;goodbye&#39; and &#39;GOODbye&#39; are also considered the same).\n",
    "# 3. Create an assert statement that throws an AssertionError every time.\n",
    "# 4. What are the two lines that must be present in your software in order to call logging.debug()?\n",
    "# 5. What are the two lines that your program must have in order to have logging.debug() send a\n",
    "# logging message to a file named programLog.txt?\n",
    "# 6. What are the five levels of logging?\n",
    "# 7. What line of code would you add to your software to disable all logging messages?\n",
    "# 8.Why is using logging messages better than using print() to display the same message?\n",
    "# 9. What are the differences between the Step Over, Step In, and Step Out buttons in the debugger?\n",
    "# 10.After you click Continue, when will the debugger stop ?\n",
    "# 11. What is the concept of a breakpoint?"
   ]
  },
  {
   "cell_type": "code",
   "execution_count": null,
   "id": "cd007ee9",
   "metadata": {},
   "outputs": [],
   "source": [
    "# assert spam >= 0, \"spam must be a non-negative integer\"\n",
    "# This assert statement checks if the variable spam is greater than or equal to zero. \n",
    "# If spam is a negative integer, it will raise an AssertionError with the specified message\n",
    "# \"spam must be a non-negative integer\"."
   ]
  },
  {
   "cell_type": "code",
   "execution_count": null,
   "id": "a1a63249",
   "metadata": {},
   "outputs": [],
   "source": [
    "# Here's the assert statement that triggers an AssertionError if the variables eggs and bacon contain strings that are \n",
    "# the same as each other, ignoring the case:\n",
    "\n",
    "# assert eggs.lower() != bacon.lower(), \"eggs and bacon strings should not be the same (ignoring case)\"\n",
    "# This assert statement converts both eggs and bacon to lowercase using the lower() method and then checks if they are different. \n",
    "# If the strings are the same when their cases are ignored, it will trigger an AssertionError with the specified message."
   ]
  },
  {
   "cell_type": "code",
   "execution_count": null,
   "id": "7e3f1789",
   "metadata": {},
   "outputs": [],
   "source": [
    "# assert False, \"This assert statement always triggers an AssertionError\"\n",
    "# This assert statement asserts that False is always true, which is never the case, thus triggering an AssertionError with the specified message."
   ]
  },
  {
   "cell_type": "code",
   "execution_count": null,
   "id": "e653da88",
   "metadata": {},
   "outputs": [],
   "source": [
    "# import logging\n",
    "# logging.basicConfig(level=logging.DEBUG)\n",
    "# The first line imports the logging module, and the second line configures the logging system to log messages at the DEBUG level\n",
    "# or higher. This setup allows you to call logging.debug() in your code, and the debug messages will be displayed according\n",
    "# to the configured logging level."
   ]
  },
  {
   "cell_type": "code",
   "execution_count": null,
   "id": "e58d3afe",
   "metadata": {},
   "outputs": [],
   "source": [
    "# import logging\n",
    "# logging.basicConfig(filename='programLog.txt', level=logging.DEBUG)\n",
    "# The first line imports the logging module, and the second line configures the logging system to log messages at the DEBUG level\n",
    "# or higher to the specified file, \"programLog.txt\". This setup allows you to call logging.debug() in your code, and\n",
    "# the debug messages will be written to the specified file."
   ]
  },
  {
   "cell_type": "code",
   "execution_count": null,
   "id": "99f02638",
   "metadata": {},
   "outputs": [],
   "source": [
    "# In Python's logging module, there are five standard levels of logging, listed below in ascending order of severity:\n",
    "# DEBUG: Detailed information, typically useful for debugging purposes.\n",
    "# INFO: Confirmation that things are working as expected.\n",
    "# WARNING: Indication that something unexpected happened or may need attention soon, but the software can still continue as expected.\n",
    "# ERROR: Indicates a more serious problem that has occurred, causing the software to fail to perform some function.\n",
    "# CRITICAL: Indicates a severe error that has caused or is likely to cause the program to terminate abruptly.\n",
    "# These levels provide a way to categorize and prioritize different types of log messages based on their severity and importance."
   ]
  },
  {
   "cell_type": "code",
   "execution_count": null,
   "id": "f3ae1d4b",
   "metadata": {},
   "outputs": [],
   "source": [
    "# logging.disable(logging.CRITICAL)\n",
    "# This line disables all logging messages with a severity level of CRITICAL or lower. As a result, no logging messages\n",
    "# will be output to the console or any configured log files."
   ]
  },
  {
   "cell_type": "code",
   "execution_count": null,
   "id": "837dbb73",
   "metadata": {},
   "outputs": [],
   "source": [
    "# Using logging messages is generally considered better than using print() for several reasons:\n",
    "\n",
    "# Logging Levels: Logging allows you to categorize messages based on their severity levels (DEBUG, INFO, WARNING, ERROR, CRITICAL).\n",
    "# This makes it easier to filter and manage different types of messages based on their importance.\n",
    "\n",
    "# Flexibility: With logging, you can easily configure where the messages are sent (e.g., console, file, network socket, etc.)\n",
    "# and at what level they should be logged. This provides flexibility in handling log messages based on deployment environment\n",
    "# and user preferences.\n",
    "\n",
    "# Granular Control: You can selectively enable or disable logging messages at different levels or for different parts of your\n",
    "# codebase. This allows you to debug specific components without cluttering the output with irrelevant messages.\n",
    "\n",
    "# Performance: In production environments, logging can often be more efficient than print() statements, especially when dealing\n",
    "# with large volumes of messages. Logging can be optimized for performance and resource usage.\n",
    "\n",
    "# Debugging: Logging provides more context and structure to your messages compared to print(). You can include additional\n",
    "# information such as timestamps, module names, and line numbers, which can be invaluable for debugging and troubleshooting.\n",
    "\n",
    "# Standardization: Logging follows a standardized approach to logging messages, making it easier for developers to understand\n",
    "# and maintain code written by others."
   ]
  },
  {
   "cell_type": "code",
   "execution_count": null,
   "id": "ae897f87",
   "metadata": {},
   "outputs": [],
   "source": [
    "# In a debugger, such as the one provided by many integrated development environments (IDEs) like PyCharm or Visual Studio Code,\n",
    "# the \"Step Over,\" \"Step In,\" and \"Step Out\" buttons are used to control the execution flow while debugging code. \n",
    "# Here are the differences between them:\n",
    "\n",
    "# Step Over:\n",
    "# When you click \"Step Over\" or press the associated shortcut (often F10), the debugger executes the current line of code and\n",
    "# moves to the next line.\n",
    "# If the current line contains a function call, the entire function is executed, but the debugger does not enter into the\n",
    "# function and instead moves to the next line after the function call.\n",
    "\n",
    "# Step In:\n",
    "# When you click \"Step In\" or press the associated shortcut (often F11), the debugger enters into the function call on the\n",
    "# current line.\n",
    "# If the current line contains a function call, the debugger moves into that function and starts debugging from the\n",
    "# first line of that function.\n",
    "\n",
    "# Step Out:\n",
    "# When you click \"Step Out\" or press the associated shortcut, the debugger executes the remaining lines of the current\n",
    "# function and stops when it returns from that function.\n",
    "# This is useful when you have stepped into a function using \"Step In\" and want to quickly return to the caller function\n",
    "# without stepping through each line of the current function."
   ]
  },
  {
   "cell_type": "code",
   "execution_count": null,
   "id": "babe31c9",
   "metadata": {},
   "outputs": [],
   "source": [
    "# After clicking \"Continue\" in a debugger, the debugger will stop when one of the following conditions is met:\n",
    "# A breakpoint is encountered: If there are breakpoints set in the code, the debugger will stop when it reaches one of these breakpoints.\n",
    "# An exception is raised: If an unhandled exception occurs during execution, the debugger will stop at the point where\n",
    "# the exception is raised, allowing you to inspect the state of the program.\n",
    "# The program terminates: If the program completes its execution without encountering any breakpoints or exceptions,\n",
    "# the debugger will stop when the program terminates."
   ]
  },
  {
   "cell_type": "code",
   "execution_count": null,
   "id": "5521f19d",
   "metadata": {},
   "outputs": [],
   "source": [
    "# A breakpoint is a debugging tool used in software development to temporarily pause the execution of a program at a \n",
    "# specific line of code or when certain conditions are met. When a breakpoint is set, it allows the developer to inspect\n",
    "# the program's state (such as variable values, stack trace, etc.) at that particular point during execution.\n",
    "\n",
    "# The concept of a breakpoint revolves around the following key aspects:\n",
    "# Setting Breakpoints: Breakpoints can be set in the code using an integrated development environment (IDE) or a debugger tool.\n",
    "# Developers typically set breakpoints by clicking on the line number in the code editor, or by specifying a condition that\n",
    "# triggers the breakpoint.\n",
    "\n",
    "# Pausing Execution: When the program reaches a line of code where a breakpoint is set, the execution is temporarily halted,\n",
    "# and control is transferred to the debugger. This allows the developer to inspect the program's state and analyze its\n",
    "# behavior up to that point.\n",
    "\n",
    "# Inspecting Variables: While the program is paused at a breakpoint, developers can inspect the values of variables,\n",
    "# data structures, and other program elements to understand their current state. This helps in identifying bugs, logic errors,\n",
    "# or unexpected behavior in the code.\n",
    "\n",
    "# Stepping Through Code: Once the program is paused at a breakpoint, developers can step through the code line by line or\n",
    "# execute it until the next breakpoint is encountered. This step-by-step execution helps in understanding the flow of the\n",
    "# program and diagnosing issues.\n",
    "\n",
    "# Conditional Breakpoints: In addition to pausing execution at specific lines of code, breakpoints can also be set based on\n",
    "# certain conditions. This allows developers to pause the program only when specific conditions are met, such as when a\n",
    "# variable reaches a certain value or when an error occurs."
   ]
  }
 ],
 "metadata": {
  "kernelspec": {
   "display_name": "Python 3 (ipykernel)",
   "language": "python",
   "name": "python3"
  },
  "language_info": {
   "codemirror_mode": {
    "name": "ipython",
    "version": 3
   },
   "file_extension": ".py",
   "mimetype": "text/x-python",
   "name": "python",
   "nbconvert_exporter": "python",
   "pygments_lexer": "ipython3",
   "version": "3.8.10"
  }
 },
 "nbformat": 4,
 "nbformat_minor": 5
}
