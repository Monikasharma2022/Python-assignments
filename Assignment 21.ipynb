{
 "cells": [
  {
   "cell_type": "code",
   "execution_count": null,
   "id": "8bc804f4",
   "metadata": {},
   "outputs": [],
   "source": [
    "# 1. Add the current date to the text file today.txt as a string.\n",
    "# 2. Read the text file today.txt into the string today_string\n",
    "# 3. Parse the date from today_string.\n",
    "# 4. List the files in your current directory\n",
    "# 5. Create a list of all of the files in your parent directory (minimum five files should be available).\n",
    "# 6. Use multiprocessing to create three separate processes. Make each one wait a random number of\n",
    "# seconds between one and five, print the current time, and then exit.\n",
    "# 7. Create a date object of your day of birth.\n",
    "# 8. What day of the week was your day of birth?\n",
    "# 9. When will you be (or when were you) 10,000 days old?"
   ]
  },
  {
   "cell_type": "code",
   "execution_count": 1,
   "id": "bf4e89f1",
   "metadata": {},
   "outputs": [],
   "source": [
    "from datetime import datetime\n",
    "\n",
    "# Get the current date\n",
    "current_date = datetime.now().strftime(\"%Y-%m-%d\")\n",
    "\n",
    "# Write the current date to the file\n",
    "with open(\"today.txt\", \"w\") as file:\n",
    "    file.write(current_date)"
   ]
  },
  {
   "cell_type": "code",
   "execution_count": 5,
   "id": "58003c10",
   "metadata": {},
   "outputs": [
    {
     "name": "stdout",
     "output_type": "stream",
     "text": [
      "2024-02-18\n"
     ]
    },
    {
     "data": {
      "text/plain": [
       "str"
      ]
     },
     "execution_count": 5,
     "metadata": {},
     "output_type": "execute_result"
    }
   ],
   "source": [
    "# Read the contents of the file into a string\n",
    "with open(\"today.txt\", \"r\") as file:\n",
    "    today_string = file.read()\n",
    "\n",
    "# Print the contents of the string\n",
    "print(today_string)\n",
    "type(today_string)\n"
   ]
  },
  {
   "cell_type": "code",
   "execution_count": 6,
   "id": "bb892f2e",
   "metadata": {},
   "outputs": [
    {
     "name": "stdout",
     "output_type": "stream",
     "text": [
      "2024-02-18 00:00:00\n"
     ]
    },
    {
     "data": {
      "text/plain": [
       "str"
      ]
     },
     "execution_count": 6,
     "metadata": {},
     "output_type": "execute_result"
    }
   ],
   "source": [
    "from datetime import datetime\n",
    "\n",
    "# Assuming today_string contains a date in the format YYYY-MM-DD\n",
    "# Parse the date from the string\n",
    "parsed_date = datetime.strptime(today_string, \"%Y-%m-%d\")\n",
    "\n",
    "# Print the parsed date\n",
    "print(parsed_date)\n",
    "type(today_string)\n"
   ]
  },
  {
   "cell_type": "code",
   "execution_count": 7,
   "id": "4e8d89ae",
   "metadata": {},
   "outputs": [
    {
     "name": "stdout",
     "output_type": "stream",
     "text": [
      ".ipynb_checkpoints\n",
      "assignment 1.ipynb\n",
      "Assignment 10.ipynb\n",
      "Assignment 11.ipynb\n",
      "Assignment 12.ipynb\n",
      "Assignment 13.ipynb\n",
      "Assignment 14.ipynb\n",
      "Assignment 15.ipynb\n",
      "Assignment 16.ipynb\n",
      "Assignment 17.ipynb\n",
      "Assignment 18.ipynb\n",
      "Assignment 19.ipynb\n",
      "Assignment 2.ipynb\n",
      "Assignment 20.ipynb\n",
      "Assignment 21.ipynb\n",
      "Assignment 3.ipynb\n",
      "Assignment 4.ipynb\n",
      "Assignment 5.ipynb\n",
      "Assignment 6.ipynb\n",
      "Assignment 7.ipynb\n",
      "Assignment 8.ipynb\n",
      "Assignment 9.ipynb\n",
      "books.csv\n",
      "books.db\n",
      "my_sign.jpg\n",
      "test.txt\n",
      "today.txt\n"
     ]
    }
   ],
   "source": [
    "import os\n",
    "\n",
    "# Get the list of files in the current directory\n",
    "files = os.listdir()\n",
    "\n",
    "# Print the list of files\n",
    "for file in files:\n",
    "    print(file)"
   ]
  },
  {
   "cell_type": "code",
   "execution_count": 8,
   "id": "66c251a8",
   "metadata": {},
   "outputs": [
    {
     "name": "stdout",
     "output_type": "stream",
     "text": [
      ".ipynb_checkpoints\n",
      "python assignments\n"
     ]
    }
   ],
   "source": [
    "import os\n",
    "\n",
    "# Get the parent directory\n",
    "parent_directory = os.path.abspath(os.path.join(os.getcwd(), os.pardir))\n",
    "\n",
    "# Get the list of files in the parent directory\n",
    "files_in_parent_directory = os.listdir(parent_directory)\n",
    "\n",
    "# Print the list of files\n",
    "for file in files_in_parent_directory:\n",
    "    print(file)\n"
   ]
  },
  {
   "cell_type": "code",
   "execution_count": 16,
   "id": "5a623544",
   "metadata": {},
   "outputs": [
    {
     "name": "stdout",
     "output_type": "stream",
     "text": [
      "C:\\Users\\monik\\OneDrive\\Documents\\ineuron2024\\python assignments\\..\n"
     ]
    }
   ],
   "source": [
    "print(os.path.join(os.getcwd(), os.pardir))"
   ]
  },
  {
   "cell_type": "code",
   "execution_count": 17,
   "id": "7c985f07",
   "metadata": {},
   "outputs": [
    {
     "name": "stdout",
     "output_type": "stream",
     "text": [
      "C:\\Users\\monik\\OneDrive\\Documents\\ineuron2024\n"
     ]
    }
   ],
   "source": [
    "print(parent_directory)"
   ]
  },
  {
   "cell_type": "code",
   "execution_count": 19,
   "id": "4f2a36cb",
   "metadata": {},
   "outputs": [],
   "source": [
    "# run this code in pycharm as jupyter notebook does not display output from child processes.\n",
    "import multiprocessing\n",
    "import time\n",
    "import random\n",
    "from datetime import datetime\n",
    "\n",
    "def worker():\n",
    "    # Generate a random sleep time between 1 and 5 seconds\n",
    "    sleep_time = random.randint(1, 5)\n",
    "    \n",
    "    # Wait for the random sleep time\n",
    "    time.sleep(sleep_time)\n",
    "    \n",
    "    # Get the current time\n",
    "    current_time = datetime.now().strftime(\"%Y-%m-%d %H:%M:%S\")\n",
    "    \n",
    "    # Print the current time\n",
    "    print(f\"Process {multiprocessing.current_process().name}: Current time is {current_time}\")\n",
    "    \n",
    "if __name__ == \"__main__\":\n",
    "    # Create three separate processes\n",
    "    processes = []\n",
    "    for i in range(3):\n",
    "        process = multiprocessing.Process(target=worker, name=f\"Worker-{i+1}\")\n",
    "        processes.append(process)\n",
    "        process.start()\n",
    "    \n",
    "    # Wait for all processes to finish\n",
    "    for process in processes:\n",
    "        process.join()\n"
   ]
  },
  {
   "cell_type": "code",
   "execution_count": 22,
   "id": "61565a18",
   "metadata": {},
   "outputs": [
    {
     "name": "stdout",
     "output_type": "stream",
     "text": [
      "My birthdate: 2000-07-24\n"
     ]
    }
   ],
   "source": [
    "from datetime import date\n",
    "\n",
    "# my birthdate\n",
    "birthdate = date(2000, 7, 24)\n",
    "\n",
    "print(\"My birthdate:\", birthdate)"
   ]
  },
  {
   "cell_type": "code",
   "execution_count": 24,
   "id": "b5664bbf",
   "metadata": {},
   "outputs": [
    {
     "name": "stdout",
     "output_type": "stream",
     "text": [
      "My hypothetical birthdate was on a Monday\n"
     ]
    }
   ],
   "source": [
    "from datetime import datetime\n",
    "\n",
    "# Assuming my hypothetical birthdate is January 1, 2000\n",
    "birthdate = datetime(2000, 7, 24)\n",
    "\n",
    "# Find the day of the week (0 = Monday, 1 = Tuesday, ..., 6 = Sunday)\n",
    "day_of_week = birthdate.strftime(\"%A\")\n",
    "\n",
    "print(\"My hypothetical birthdate was on a\", day_of_week)\n"
   ]
  },
  {
   "cell_type": "code",
   "execution_count": 29,
   "id": "e7f421a4",
   "metadata": {},
   "outputs": [
    {
     "name": "stdout",
     "output_type": "stream",
     "text": [
      "I would be 10,000 days old on: 2027-12-10\n"
     ]
    }
   ],
   "source": [
    "from datetime import datetime, timedelta\n",
    "\n",
    "# Assuming my hypothetical birthdate is January 1, 2000\n",
    "birthdate = datetime(2000, 7, 24)\n",
    "\n",
    "# Calculate the date when I would be (or would have been) 10,000 days old\n",
    "target_date = birthdate + timedelta(days=10000)\n",
    "\n",
    "print(\"I would be 10,000 days old on:\", target_date.strftime(\"%Y-%m-%d\"))\n"
   ]
  },
  {
   "cell_type": "code",
   "execution_count": null,
   "id": "f4ee45d8",
   "metadata": {},
   "outputs": [],
   "source": []
  }
 ],
 "metadata": {
  "kernelspec": {
   "display_name": "Python 3 (ipykernel)",
   "language": "python",
   "name": "python3"
  },
  "language_info": {
   "codemirror_mode": {
    "name": "ipython",
    "version": 3
   },
   "file_extension": ".py",
   "mimetype": "text/x-python",
   "name": "python",
   "nbconvert_exporter": "python",
   "pygments_lexer": "ipython3",
   "version": "3.8.10"
  }
 },
 "nbformat": 4,
 "nbformat_minor": 5
}
