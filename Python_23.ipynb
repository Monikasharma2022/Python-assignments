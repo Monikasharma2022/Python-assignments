{
 "cells": [
  {
   "cell_type": "code",
   "execution_count": null,
   "id": "a80275e7",
   "metadata": {},
   "outputs": [],
   "source": [
    "# Question 1\n",
    "# Create a function that takes a number as an argument and returns True or False depending\n",
    "# on whether the number is symmetrical or not. A number is symmetrical when it is the same as\n",
    "# its reverse.\n",
    "\n",
    "# Question 2\n",
    "# Given a string of numbers separated by a comma and space, return the product of the\n",
    "# numbers.\n",
    "\n",
    "# Question 3\n",
    "# Create a function that squares every digit of a number.\n",
    "# Notes\n",
    "# The function receives an integer and must return an integer.\n",
    "\n",
    "# Question 4\n",
    "# Create a function that sorts a list and removes all duplicate items from it.\n",
    "\n",
    "# Question 5\n",
    "# Create a function that returns the mean of all digits."
   ]
  },
  {
   "cell_type": "code",
   "execution_count": 1,
   "id": "06b8fef3",
   "metadata": {},
   "outputs": [
    {
     "name": "stdout",
     "output_type": "stream",
     "text": [
      "True\n",
      "False\n",
      "True\n",
      "False\n",
      "True\n"
     ]
    }
   ],
   "source": [
    "def is_symmetrical(num):\n",
    "    # Convert number to string\n",
    "    num_str = str(num)\n",
    "    # Reverse the string\n",
    "    reversed_str = num_str[::-1]\n",
    "    # Check if the original and reversed strings are the same\n",
    "    return num_str == reversed_str\n",
    "\n",
    "# Test cases\n",
    "print(is_symmetrical(7227))     # ➞ True\n",
    "print(is_symmetrical(12567))    # ➞ False\n",
    "print(is_symmetrical(44444444)) # ➞ True\n",
    "print(is_symmetrical(9939))     # ➞ False\n",
    "print(is_symmetrical(1112111))  # ➞ True"
   ]
  },
  {
   "cell_type": "code",
   "execution_count": 7,
   "id": "6b6d9361",
   "metadata": {},
   "outputs": [
    {
     "name": "stdout",
     "output_type": "stream",
     "text": [
      "6\n",
      "24\n",
      "0\n",
      "-20\n"
     ]
    }
   ],
   "source": [
    "def multiply_nums(nums_str):\n",
    "    # Split the string by comma and space, and convert substrings to integers\n",
    "    nums = [int(num) for num in nums_str.split(\", \")]\n",
    "    # Initialize the product to 1\n",
    "    product = 1\n",
    "    # Multiply all numbers in the list\n",
    "    for num in nums:\n",
    "        product *= num\n",
    "    return product\n",
    "\n",
    "# Test cases\n",
    "print(multiply_nums(\"2, 3\"))           # ➞ 6\n",
    "print(multiply_nums(\"1, 2, 3, 4\"))     # ➞ 24\n",
    "print(multiply_nums(\"54, 75, 453, 0\")) # ➞ 0\n",
    "print(multiply_nums(\"10, -2\"))          # ➞ -20"
   ]
  },
  {
   "cell_type": "code",
   "execution_count": 8,
   "id": "b373ed46",
   "metadata": {},
   "outputs": [
    {
     "name": "stdout",
     "output_type": "stream",
     "text": [
      "811181\n",
      "416649\n",
      "9414\n"
     ]
    }
   ],
   "source": [
    "def square_digits(num):\n",
    "    # Convert the number to a string to iterate through its digits\n",
    "    num_str = str(num)\n",
    "    # Initialize an empty string to store the squared digits\n",
    "    squared_digits = \"\"\n",
    "    # Iterate through each digit in the string representation of the number\n",
    "    for digit in num_str:\n",
    "        # Square the digit and convert it back to a string\n",
    "        squared_digit = str(int(digit) ** 2)\n",
    "        # Concatenate the squared digit to the result string\n",
    "        squared_digits += squared_digit\n",
    "    # Convert the result string back to an integer and return it\n",
    "    return int(squared_digits)\n",
    "\n",
    "# Test cases\n",
    "print(square_digits(9119)) # ➞ 811181\n",
    "print(square_digits(2483)) # ➞ 416649\n",
    "print(square_digits(3212)) # ➞ 9414"
   ]
  },
  {
   "cell_type": "code",
   "execution_count": 9,
   "id": "f7155f69",
   "metadata": {},
   "outputs": [
    {
     "name": "stdout",
     "output_type": "stream",
     "text": [
      "[1, 3, 5]\n",
      "[4]\n",
      "[5, 7, 8, 9, 10, 15]\n",
      "[1, 2, 3]\n"
     ]
    }
   ],
   "source": [
    "def setify(lst):\n",
    "    # Convert the list to a set to remove duplicates\n",
    "    unique_elements = set(lst)\n",
    "    # Convert the set back to a list and sort it\n",
    "    sorted_list = sorted(unique_elements)\n",
    "    return sorted_list\n",
    "\n",
    "# Test cases\n",
    "print(setify([1, 3, 3, 5, 5]))            # ➞ [1, 3, 5]\n",
    "print(setify([4, 4, 4, 4]))                # ➞ [4]\n",
    "print(setify([5, 7, 8, 9, 10, 15]))        # ➞ [5, 7, 8, 9, 10, 15]\n",
    "print(setify([3, 3, 3, 2, 1]))             # ➞ [1, 2, 3]"
   ]
  },
  {
   "cell_type": "code",
   "execution_count": 10,
   "id": "d13f0ec3",
   "metadata": {},
   "outputs": [
    {
     "name": "stdout",
     "output_type": "stream",
     "text": [
      "3\n",
      "3\n",
      "6\n"
     ]
    }
   ],
   "source": [
    "def mean(num):\n",
    "    # Convert the number to a string\n",
    "    num_str = str(num)\n",
    "    # Calculate the sum of all digits\n",
    "    digit_sum = sum(int(digit) for digit in num_str)\n",
    "    # Calculate the mean by dividing the sum by the number of digits\n",
    "    mean_value = digit_sum // len(num_str)\n",
    "    return mean_value\n",
    "\n",
    "# Test cases\n",
    "print(mean(42))      # ➞ 3\n",
    "print(mean(12345))   # ➞ 3\n",
    "print(mean(666))     # ➞ 6"
   ]
  },
  {
   "cell_type": "code",
   "execution_count": null,
   "id": "79698a85",
   "metadata": {},
   "outputs": [],
   "source": []
  }
 ],
 "metadata": {
  "kernelspec": {
   "display_name": "Python 3 (ipykernel)",
   "language": "python",
   "name": "python3"
  },
  "language_info": {
   "codemirror_mode": {
    "name": "ipython",
    "version": 3
   },
   "file_extension": ".py",
   "mimetype": "text/x-python",
   "name": "python",
   "nbconvert_exporter": "python",
   "pygments_lexer": "ipython3",
   "version": "3.8.10"
  }
 },
 "nbformat": 4,
 "nbformat_minor": 5
}
