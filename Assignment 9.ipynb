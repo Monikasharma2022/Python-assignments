{
 "cells": [
  {
   "cell_type": "code",
   "execution_count": null,
   "id": "ede6973d",
   "metadata": {},
   "outputs": [],
   "source": [
    "# 1. To what does a relative path refer?\n",
    "# 2. What does an absolute path start with your operating system?\n",
    "# 3. What do the functions os.getcwd() and os.chdir() do?\n",
    "# 4. What are the . and .. folders?\n",
    "# 5. In C:\\bacon\\eggs\\spam.txt, which part is the dir name, and which part is the base name?\n",
    "# 6. What are the three “mode” arguments that can be passed to the open() function?\n",
    "# 7. What happens if an existing file is opened in write mode?\n",
    "# 8. How do you tell the difference between read() and readlines()?\n",
    "# 9. What data structure does a shelf value resemble?"
   ]
  },
  {
   "cell_type": "code",
   "execution_count": null,
   "id": "04ee7ce2",
   "metadata": {},
   "outputs": [],
   "source": [
    "# A relative path refers to the location of a file or directory relative to the current working directory. \n",
    "# In other words, it specifies the path to a file or directory in relation to the directory from which the path is being referenced. \n",
    "# This allows for flexibility in specifying file locations without needing to provide the full or absolute path. \n",
    "# Relative paths are commonly used in programming and file systems to navigate directories and access files within\n",
    "# a project or directory structure."
   ]
  },
  {
   "cell_type": "code",
   "execution_count": null,
   "id": "8b2527d9",
   "metadata": {},
   "outputs": [],
   "source": [
    "# In most operating systems, an absolute path starts with the root directory.\n",
    "# In Unix-like systems (such as Linux, macOS), the root directory is denoted by a forward slash (/). \n",
    "# For example: /home/user/Documents/file.txt.\n",
    "\n",
    "# In Windows, the root directory of a drive is denoted by the drive letter followed by a colon and a backslash (). \n",
    "# For example: C:\\Users\\User\\Documents\\file.txt."
   ]
  },
  {
   "cell_type": "code",
   "execution_count": null,
   "id": "9b897a9f",
   "metadata": {},
   "outputs": [],
   "source": [
    "# In Python, os.getcwd() and os.chdir() are functions provided by the os module for interacting with the operating system's file system. \n",
    "# os.getcwd(): This function returns the current working directory of the Python process. \n",
    "# The \"current working directory\" is the directory from which the Python script is being executed or\n",
    "# the directory where the Python interpreter is currently running.\n",
    "\n",
    "# os.chdir(path): This function changes the current working directory to the directory specified by the path argument. \n",
    "# After calling os.chdir(), any relative paths will be resolved relative to the new current working directory.\n",
    "# These functions are useful for navigating and manipulating the file system within Python scripts, \n",
    "# especially when dealing with files and directories located in different locations on the system."
   ]
  },
  {
   "cell_type": "code",
   "execution_count": null,
   "id": "dc27ecd2",
   "metadata": {},
   "outputs": [],
   "source": [
    "# In most file systems, including those used by Unix-like operating systems (such as Linux and macOS) and Windows, \n",
    "# the . and .. folders are special directory entries used for navigation:\n",
    "\n",
    "# . (dot): This represents the current directory. It is a reference to the directory in which the command or \n",
    "# operation is being executed. For example, if you're in the directory /home/user/Documents, then . refers to the \n",
    "# Documents directory itself.\n",
    "\n",
    "# .. (dot-dot): This represents the parent directory. It is a reference to the directory containing the current directory. \n",
    "# For example, if you're in the directory /home/user/Documents, then .. refers to the /home/user directory.\n",
    "\n",
    "# These special directory entries are often used in command-line interfaces and programming to navigate the directory structure. \n",
    "# They provide a convenient and consistent way to reference directories relative to the current location without needing to know \n",
    "# the absolute path."
   ]
  },
  {
   "cell_type": "code",
   "execution_count": null,
   "id": "9970c6b0",
   "metadata": {},
   "outputs": [],
   "source": [
    "# In the path C:\\bacon\\eggs\\spam.txt, the directory name and the base name can be identified as follows:\n",
    "# Directory Name: C:\\bacon\\eggs - This portion represents the directory containing the file spam.txt. \n",
    "# It includes all the directories leading up to the file itself.\n",
    "\n",
    "# Base Name: spam.txt - This is the actual file name, which is located within the directory C:\\bacon\\eggs. \n",
    "# It does not include any directory information and represents the name of the file itself."
   ]
  },
  {
   "cell_type": "code",
   "execution_count": null,
   "id": "7d4551c1",
   "metadata": {},
   "outputs": [],
   "source": [
    "# In Python, the open() function is used to open files. It accepts several mode arguments that specify the\n",
    "# intended operations on the file. The three main mode arguments are:\n",
    "\n",
    "# \"r\" (Read mode): This mode is used for reading from a file. It opens the file for reading, and if the file does not exist,\n",
    "# it raises a FileNotFoundError. This is the default mode if no mode is specified.\n",
    "\n",
    "# \"w\" (Write mode): This mode is used for writing to a file. If the file already exists, it truncates the file to zero length. \n",
    "# If the file does not exist, it creates a new file. Use this mode cautiously, as it will overwrite the contents of the file if\n",
    "# it already exists.\n",
    "\n",
    "# \"a\" (Append mode): This mode is used for appending data to the end of a file. It does not truncate the file. \n",
    "# If the file does not exist, it creates a new file.\n",
    "\n",
    "# Example usage:\n",
    "# # Read mode\n",
    "# with open(\"example.txt\", \"r\") as file:\n",
    "#     content = file.read()\n",
    "\n",
    "# # Write mode\n",
    "# with open(\"example.txt\", \"w\") as file:\n",
    "#     file.write(\"Hello, world!\")\n",
    "\n",
    "# # Append mode\n",
    "# with open(\"example.txt\", \"a\") as file:\n",
    "#     file.write(\"\\nAppending new content.\")"
   ]
  },
  {
   "cell_type": "code",
   "execution_count": null,
   "id": "d679b9a8",
   "metadata": {},
   "outputs": [],
   "source": [
    "# If an existing file is opened in write mode (\"w\"), the file is truncated to zero length. This means that any existing content\n",
    "# in the file is deleted, and the file becomes empty. If the file does not exist, a new file is created.\n",
    "\n",
    "# Opening a file in write mode allows you to write new content to the file, starting from the beginning. However,\n",
    "# it's important to be cautious when using write mode because it will overwrite the existing content of the file without warning."
   ]
  },
  {
   "cell_type": "code",
   "execution_count": null,
   "id": "66850f31",
   "metadata": {},
   "outputs": [],
   "source": [
    "# read(): The read() method reads the entire contents of the file and returns it as a single string. \n",
    "# If no size argument is specified, it reads the entire file. If a size argument is provided, it reads that number of bytes\n",
    "# from the file. If the end of the file is reached before reaching the specified size, it reads up to the end of the file.\n",
    "# If the file is already at the end, an empty string is returned.\n",
    "# Example:\n",
    "# with open(\"example.txt\", \"r\") as file:\n",
    "#     content = file.read()\n",
    "\n",
    "# readlines(): The readlines() method reads all the lines in the file and returns them as a list of strings,\n",
    "# where each string represents a line from the file, including the newline character at the end of each line. \n",
    "# If the end of the file is reached, an empty list is returned.\n",
    "# Example:\n",
    "# with open(\"example.txt\", \"r\") as file:\n",
    "#     lines = file.readlines()\n",
    "\n",
    "# In summary:\n",
    "# Use read() when you want to read the entire contents of the file as a single string.\n",
    "# Use readlines() when you want to read each line of the file as a separate string and store them in a list."
   ]
  },
  {
   "cell_type": "code",
   "execution_count": null,
   "id": "6b38bd6e",
   "metadata": {},
   "outputs": [],
   "source": [
    "# A shelf is essentially a persistent, dictionary-like storage system provided by the shelve module in Python. \n",
    "# It allows you to store and retrieve Python objects on disk in a dictionary-like format. \n",
    "# The keys in a shelf are strings, while the values can be almost any Python object.\n",
    "\n",
    "# import shelve\n",
    "# # Open (or create) a shelf file\n",
    "# with shelve.open('my_shelf') as shelf:\n",
    "#     # Store data\n",
    "#     shelf['key1'] = 'value1'\n",
    "#     shelf['key2'] = [1, 2, 3]\n",
    "    \n",
    "#     # Retrieve data\n",
    "#     print(shelf['key1'])  # Output: value1\n",
    "#     print(shelf['key2'])  # Output: [1, 2, 3]"
   ]
  },
  {
   "cell_type": "code",
   "execution_count": null,
   "id": "fb0073e3",
   "metadata": {},
   "outputs": [],
   "source": []
  }
 ],
 "metadata": {
  "kernelspec": {
   "display_name": "Python 3 (ipykernel)",
   "language": "python",
   "name": "python3"
  },
  "language_info": {
   "codemirror_mode": {
    "name": "ipython",
    "version": 3
   },
   "file_extension": ".py",
   "mimetype": "text/x-python",
   "name": "python",
   "nbconvert_exporter": "python",
   "pygments_lexer": "ipython3",
   "version": "3.8.10"
  }
 },
 "nbformat": 4,
 "nbformat_minor": 5
}
